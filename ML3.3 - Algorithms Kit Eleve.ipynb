{
 "cells": [
  {
   "attachments": {},
   "cell_type": "markdown",
   "metadata": {},
   "source": [
    "# Dataset "
   ]
  },
  {
   "attachments": {},
   "cell_type": "markdown",
   "metadata": {},
   "source": [
    "https://www.kaggle.com/mariaren/covid19-healthy-diet-dataset"
   ]
  },
  {
   "attachments": {},
   "cell_type": "markdown",
   "metadata": {},
   "source": [
    "# Problem definition "
   ]
  },
  {
   "attachments": {},
   "cell_type": "markdown",
   "metadata": {},
   "source": [
    "We chose a dataset combining different types of food, world population obesity and undernourished rate, and global covid cases count from around the world.\n",
    "\n",
    "The idea is to understand how a healthy eating style could help combat the coronavirus, distinguishing the diet patterns from countries with lower COVID infection rate.\n",
    "\n",
    "Our goal here is to provide diet recommendations based on our findings.\n",
    "\n",
    "Each dataset provides different diet measure different categories of food, depending on what we want to focus on, so we have\n",
    "\n",
    "- fat quantity,\n",
    "- energy intake (kcal),\n",
    "- food supply quantity (kg),\n",
    "- protein for different categories of food\n",
    "\n",
    "To which have been added:\n",
    "\n",
    "- obesity rate\n",
    "- undernourished rate\n",
    "- the most up to date confirmed/deaths/recovered/active cases.\n",
    "\n",
    "We are going to focus on the fat quantity dataset."
   ]
  },
  {
   "cell_type": "code",
   "execution_count": 66,
   "metadata": {},
   "outputs": [],
   "source": [
    "import numpy as np\n",
    "import pandas as pd\n",
    "\n",
    "from sklearn.datasets import load_iris\n",
    "import matplotlib.pyplot as plt\n",
    "\n",
    "from sklearn import tree\n",
    "from sklearn.tree import DecisionTreeClassifier\n",
    "from sklearn.ensemble import RandomForestClassifier\n",
    "from sklearn.linear_model import LinearRegression\n",
    "from sklearn.model_selection import learning_curve\n",
    "from sklearn.tree import export_graphviz, plot_tree\n",
    "from sklearn import metrics\n",
    "from sklearn.preprocessing import StandardScaler\n",
    "from sklearn.model_selection import train_test_split\n",
    "from sklearn.model_selection import KFold\n",
    "from sklearn.metrics import mean_squared_error\n",
    "from sklearn.svm import LinearSVC, SVC, SVR"
   ]
  },
  {
   "attachments": {},
   "cell_type": "markdown",
   "metadata": {},
   "source": [
    "Let's start by loading the data"
   ]
  },
  {
   "cell_type": "code",
   "execution_count": 67,
   "metadata": {},
   "outputs": [],
   "source": [
    "fat_quantity = pd.read_csv(\"ML3.3_data/Fat_Supply_Quantity_Data.csv\")"
   ]
  },
  {
   "attachments": {},
   "cell_type": "markdown",
   "metadata": {},
   "source": [
    " ## Data Exploration and Processing"
   ]
  },
  {
   "attachments": {},
   "cell_type": "markdown",
   "metadata": {},
   "source": [
    "Now let's explore the dataset:\n",
    "- check the head\n",
    "- the columns\n",
    "- the variable types"
   ]
  },
  {
   "cell_type": "code",
   "execution_count": 68,
   "metadata": {},
   "outputs": [
    {
     "data": {
      "text/html": [
       "<div>\n",
       "<style scoped>\n",
       "    .dataframe tbody tr th:only-of-type {\n",
       "        vertical-align: middle;\n",
       "    }\n",
       "\n",
       "    .dataframe tbody tr th {\n",
       "        vertical-align: top;\n",
       "    }\n",
       "\n",
       "    .dataframe thead th {\n",
       "        text-align: right;\n",
       "    }\n",
       "</style>\n",
       "<table border=\"1\" class=\"dataframe\">\n",
       "  <thead>\n",
       "    <tr style=\"text-align: right;\">\n",
       "      <th></th>\n",
       "      <th>Country</th>\n",
       "      <th>Alcoholic Beverages</th>\n",
       "      <th>Animal Products</th>\n",
       "      <th>Animal fats</th>\n",
       "      <th>Aquatic Products, Other</th>\n",
       "      <th>Cereals - Excluding Beer</th>\n",
       "      <th>Eggs</th>\n",
       "      <th>Fish, Seafood</th>\n",
       "      <th>Fruits - Excluding Wine</th>\n",
       "      <th>Meat</th>\n",
       "      <th>...</th>\n",
       "      <th>Vegetable Oils</th>\n",
       "      <th>Vegetables</th>\n",
       "      <th>Obesity</th>\n",
       "      <th>Undernourished</th>\n",
       "      <th>Confirmed</th>\n",
       "      <th>Deaths</th>\n",
       "      <th>Recovered</th>\n",
       "      <th>Active</th>\n",
       "      <th>Population</th>\n",
       "      <th>Unit (all except Population)</th>\n",
       "    </tr>\n",
       "  </thead>\n",
       "  <tbody>\n",
       "    <tr>\n",
       "      <th>68</th>\n",
       "      <td>India</td>\n",
       "      <td>0.0</td>\n",
       "      <td>16.0538</td>\n",
       "      <td>7.4859</td>\n",
       "      <td>0.0</td>\n",
       "      <td>5.1196</td>\n",
       "      <td>0.7653</td>\n",
       "      <td>0.3783</td>\n",
       "      <td>0.4046</td>\n",
       "      <td>0.9061</td>\n",
       "      <td>...</td>\n",
       "      <td>21.7804</td>\n",
       "      <td>0.3958</td>\n",
       "      <td>3.8</td>\n",
       "      <td>14.5</td>\n",
       "      <td>0.773256</td>\n",
       "      <td>0.011070</td>\n",
       "      <td>0.751561</td>\n",
       "      <td>0.010625</td>\n",
       "      <td>1.400100e+09</td>\n",
       "      <td>%</td>\n",
       "    </tr>\n",
       "    <tr>\n",
       "      <th>32</th>\n",
       "      <td>Congo</td>\n",
       "      <td>0.0</td>\n",
       "      <td>12.9993</td>\n",
       "      <td>0.3390</td>\n",
       "      <td>0.0</td>\n",
       "      <td>2.7016</td>\n",
       "      <td>0.1377</td>\n",
       "      <td>1.8540</td>\n",
       "      <td>0.8370</td>\n",
       "      <td>9.6514</td>\n",
       "      <td>...</td>\n",
       "      <td>26.0091</td>\n",
       "      <td>0.5827</td>\n",
       "      <td>8.4</td>\n",
       "      <td>40.3</td>\n",
       "      <td>0.571675</td>\n",
       "      <td>0.014516</td>\n",
       "      <td>0.379721</td>\n",
       "      <td>0.177437</td>\n",
       "      <td>5.518000e+06</td>\n",
       "      <td>%</td>\n",
       "    </tr>\n",
       "    <tr>\n",
       "      <th>27</th>\n",
       "      <td>Central African Republic</td>\n",
       "      <td>0.0</td>\n",
       "      <td>18.5453</td>\n",
       "      <td>2.8767</td>\n",
       "      <td>0.0</td>\n",
       "      <td>2.7645</td>\n",
       "      <td>0.1122</td>\n",
       "      <td>0.5509</td>\n",
       "      <td>0.4998</td>\n",
       "      <td>12.9144</td>\n",
       "      <td>...</td>\n",
       "      <td>19.4838</td>\n",
       "      <td>0.0918</td>\n",
       "      <td>6.3</td>\n",
       "      <td>59.6</td>\n",
       "      <td>0.103292</td>\n",
       "      <td>0.001304</td>\n",
       "      <td>0.101139</td>\n",
       "      <td>0.000849</td>\n",
       "      <td>4.830000e+06</td>\n",
       "      <td>%</td>\n",
       "    </tr>\n",
       "    <tr>\n",
       "      <th>47</th>\n",
       "      <td>Eswatini</td>\n",
       "      <td>0.0</td>\n",
       "      <td>20.8055</td>\n",
       "      <td>3.1415</td>\n",
       "      <td>0.0</td>\n",
       "      <td>12.0023</td>\n",
       "      <td>0.4718</td>\n",
       "      <td>0.3682</td>\n",
       "      <td>0.4718</td>\n",
       "      <td>11.1162</td>\n",
       "      <td>...</td>\n",
       "      <td>10.9436</td>\n",
       "      <td>0.1956</td>\n",
       "      <td>13.5</td>\n",
       "      <td>20.6</td>\n",
       "      <td>1.465670</td>\n",
       "      <td>0.054710</td>\n",
       "      <td>1.038859</td>\n",
       "      <td>0.372101</td>\n",
       "      <td>1.104000e+06</td>\n",
       "      <td>%</td>\n",
       "    </tr>\n",
       "    <tr>\n",
       "      <th>40</th>\n",
       "      <td>Djibouti</td>\n",
       "      <td>0.0</td>\n",
       "      <td>11.1065</td>\n",
       "      <td>1.3966</td>\n",
       "      <td>0.0</td>\n",
       "      <td>4.3977</td>\n",
       "      <td>0.2494</td>\n",
       "      <td>0.2910</td>\n",
       "      <td>0.1247</td>\n",
       "      <td>5.1210</td>\n",
       "      <td>...</td>\n",
       "      <td>31.4490</td>\n",
       "      <td>0.4572</td>\n",
       "      <td>12.2</td>\n",
       "      <td>18.9</td>\n",
       "      <td>0.601316</td>\n",
       "      <td>0.006377</td>\n",
       "      <td>0.592308</td>\n",
       "      <td>0.002632</td>\n",
       "      <td>9.880000e+05</td>\n",
       "      <td>%</td>\n",
       "    </tr>\n",
       "    <tr>\n",
       "      <th>157</th>\n",
       "      <td>Ukraine</td>\n",
       "      <td>0.0</td>\n",
       "      <td>26.9100</td>\n",
       "      <td>5.4940</td>\n",
       "      <td>0.0</td>\n",
       "      <td>3.0837</td>\n",
       "      <td>2.4481</td>\n",
       "      <td>0.5160</td>\n",
       "      <td>0.3084</td>\n",
       "      <td>9.6350</td>\n",
       "      <td>...</td>\n",
       "      <td>17.4638</td>\n",
       "      <td>0.5223</td>\n",
       "      <td>26.1</td>\n",
       "      <td>3.5</td>\n",
       "      <td>3.075923</td>\n",
       "      <td>0.059206</td>\n",
       "      <td>2.653382</td>\n",
       "      <td>0.363335</td>\n",
       "      <td>4.177800e+07</td>\n",
       "      <td>%</td>\n",
       "    </tr>\n",
       "    <tr>\n",
       "      <th>8</th>\n",
       "      <td>Austria</td>\n",
       "      <td>0.0</td>\n",
       "      <td>27.8268</td>\n",
       "      <td>12.8517</td>\n",
       "      <td>0.0</td>\n",
       "      <td>1.2297</td>\n",
       "      <td>1.2147</td>\n",
       "      <td>0.4259</td>\n",
       "      <td>0.2249</td>\n",
       "      <td>8.1099</td>\n",
       "      <td>...</td>\n",
       "      <td>17.9323</td>\n",
       "      <td>0.2039</td>\n",
       "      <td>21.9</td>\n",
       "      <td>&lt;2.5</td>\n",
       "      <td>4.739982</td>\n",
       "      <td>0.089679</td>\n",
       "      <td>4.496870</td>\n",
       "      <td>0.153433</td>\n",
       "      <td>8.914000e+06</td>\n",
       "      <td>%</td>\n",
       "    </tr>\n",
       "    <tr>\n",
       "      <th>106</th>\n",
       "      <td>Namibia</td>\n",
       "      <td>0.0</td>\n",
       "      <td>16.7373</td>\n",
       "      <td>3.3171</td>\n",
       "      <td>0.0</td>\n",
       "      <td>6.8020</td>\n",
       "      <td>0.2718</td>\n",
       "      <td>0.6075</td>\n",
       "      <td>0.2798</td>\n",
       "      <td>7.7772</td>\n",
       "      <td>...</td>\n",
       "      <td>22.9078</td>\n",
       "      <td>0.1359</td>\n",
       "      <td>15.0</td>\n",
       "      <td>27.3</td>\n",
       "      <td>1.371271</td>\n",
       "      <td>0.014601</td>\n",
       "      <td>1.312830</td>\n",
       "      <td>0.043841</td>\n",
       "      <td>2.541000e+06</td>\n",
       "      <td>%</td>\n",
       "    </tr>\n",
       "    <tr>\n",
       "      <th>90</th>\n",
       "      <td>Lithuania</td>\n",
       "      <td>0.0</td>\n",
       "      <td>32.3048</td>\n",
       "      <td>9.3880</td>\n",
       "      <td>0.0</td>\n",
       "      <td>1.7819</td>\n",
       "      <td>1.9226</td>\n",
       "      <td>1.2380</td>\n",
       "      <td>0.3283</td>\n",
       "      <td>14.2134</td>\n",
       "      <td>...</td>\n",
       "      <td>12.7128</td>\n",
       "      <td>0.2579</td>\n",
       "      <td>28.4</td>\n",
       "      <td>&lt;2.5</td>\n",
       "      <td>6.667072</td>\n",
       "      <td>0.104760</td>\n",
       "      <td>4.939621</td>\n",
       "      <td>1.622691</td>\n",
       "      <td>2.794000e+06</td>\n",
       "      <td>%</td>\n",
       "    </tr>\n",
       "    <tr>\n",
       "      <th>83</th>\n",
       "      <td>Kuwait</td>\n",
       "      <td>0.0</td>\n",
       "      <td>19.8923</td>\n",
       "      <td>2.1588</td>\n",
       "      <td>0.0</td>\n",
       "      <td>3.0847</td>\n",
       "      <td>2.3242</td>\n",
       "      <td>0.3732</td>\n",
       "      <td>0.3496</td>\n",
       "      <td>9.5706</td>\n",
       "      <td>...</td>\n",
       "      <td>21.2150</td>\n",
       "      <td>0.5055</td>\n",
       "      <td>37.0</td>\n",
       "      <td>2.8</td>\n",
       "      <td>3.624728</td>\n",
       "      <td>0.020550</td>\n",
       "      <td>3.434087</td>\n",
       "      <td>0.170092</td>\n",
       "      <td>4.691000e+06</td>\n",
       "      <td>%</td>\n",
       "    </tr>\n",
       "  </tbody>\n",
       "</table>\n",
       "<p>10 rows × 32 columns</p>\n",
       "</div>"
      ],
      "text/plain": [
       "                      Country  Alcoholic Beverages  Animal Products  \\\n",
       "68                      India                  0.0          16.0538   \n",
       "32                      Congo                  0.0          12.9993   \n",
       "27   Central African Republic                  0.0          18.5453   \n",
       "47                   Eswatini                  0.0          20.8055   \n",
       "40                   Djibouti                  0.0          11.1065   \n",
       "157                   Ukraine                  0.0          26.9100   \n",
       "8                     Austria                  0.0          27.8268   \n",
       "106                   Namibia                  0.0          16.7373   \n",
       "90                  Lithuania                  0.0          32.3048   \n",
       "83                     Kuwait                  0.0          19.8923   \n",
       "\n",
       "     Animal fats  Aquatic Products, Other  Cereals - Excluding Beer    Eggs  \\\n",
       "68        7.4859                      0.0                    5.1196  0.7653   \n",
       "32        0.3390                      0.0                    2.7016  0.1377   \n",
       "27        2.8767                      0.0                    2.7645  0.1122   \n",
       "47        3.1415                      0.0                   12.0023  0.4718   \n",
       "40        1.3966                      0.0                    4.3977  0.2494   \n",
       "157       5.4940                      0.0                    3.0837  2.4481   \n",
       "8        12.8517                      0.0                    1.2297  1.2147   \n",
       "106       3.3171                      0.0                    6.8020  0.2718   \n",
       "90        9.3880                      0.0                    1.7819  1.9226   \n",
       "83        2.1588                      0.0                    3.0847  2.3242   \n",
       "\n",
       "     Fish, Seafood  Fruits - Excluding Wine     Meat  ...  Vegetable Oils  \\\n",
       "68          0.3783                   0.4046   0.9061  ...         21.7804   \n",
       "32          1.8540                   0.8370   9.6514  ...         26.0091   \n",
       "27          0.5509                   0.4998  12.9144  ...         19.4838   \n",
       "47          0.3682                   0.4718  11.1162  ...         10.9436   \n",
       "40          0.2910                   0.1247   5.1210  ...         31.4490   \n",
       "157         0.5160                   0.3084   9.6350  ...         17.4638   \n",
       "8           0.4259                   0.2249   8.1099  ...         17.9323   \n",
       "106         0.6075                   0.2798   7.7772  ...         22.9078   \n",
       "90          1.2380                   0.3283  14.2134  ...         12.7128   \n",
       "83          0.3732                   0.3496   9.5706  ...         21.2150   \n",
       "\n",
       "     Vegetables  Obesity  Undernourished  Confirmed    Deaths  Recovered  \\\n",
       "68       0.3958      3.8            14.5   0.773256  0.011070   0.751561   \n",
       "32       0.5827      8.4            40.3   0.571675  0.014516   0.379721   \n",
       "27       0.0918      6.3            59.6   0.103292  0.001304   0.101139   \n",
       "47       0.1956     13.5            20.6   1.465670  0.054710   1.038859   \n",
       "40       0.4572     12.2            18.9   0.601316  0.006377   0.592308   \n",
       "157      0.5223     26.1             3.5   3.075923  0.059206   2.653382   \n",
       "8        0.2039     21.9            <2.5   4.739982  0.089679   4.496870   \n",
       "106      0.1359     15.0            27.3   1.371271  0.014601   1.312830   \n",
       "90       0.2579     28.4            <2.5   6.667072  0.104760   4.939621   \n",
       "83       0.5055     37.0             2.8   3.624728  0.020550   3.434087   \n",
       "\n",
       "       Active    Population  Unit (all except Population)  \n",
       "68   0.010625  1.400100e+09                             %  \n",
       "32   0.177437  5.518000e+06                             %  \n",
       "27   0.000849  4.830000e+06                             %  \n",
       "47   0.372101  1.104000e+06                             %  \n",
       "40   0.002632  9.880000e+05                             %  \n",
       "157  0.363335  4.177800e+07                             %  \n",
       "8    0.153433  8.914000e+06                             %  \n",
       "106  0.043841  2.541000e+06                             %  \n",
       "90   1.622691  2.794000e+06                             %  \n",
       "83   0.170092  4.691000e+06                             %  \n",
       "\n",
       "[10 rows x 32 columns]"
      ]
     },
     "execution_count": 68,
     "metadata": {},
     "output_type": "execute_result"
    }
   ],
   "source": [
    "fat_quantity.sample(10)"
   ]
  },
  {
   "cell_type": "code",
   "execution_count": 69,
   "metadata": {},
   "outputs": [
    {
     "name": "stdout",
     "output_type": "stream",
     "text": [
      "<class 'pandas.core.frame.DataFrame'>\n",
      "RangeIndex: 170 entries, 0 to 169\n",
      "Data columns (total 32 columns):\n",
      " #   Column                        Non-Null Count  Dtype  \n",
      "---  ------                        --------------  -----  \n",
      " 0   Country                       170 non-null    object \n",
      " 1   Alcoholic Beverages           170 non-null    float64\n",
      " 2   Animal Products               170 non-null    float64\n",
      " 3   Animal fats                   170 non-null    float64\n",
      " 4   Aquatic Products, Other       170 non-null    float64\n",
      " 5   Cereals - Excluding Beer      170 non-null    float64\n",
      " 6   Eggs                          170 non-null    float64\n",
      " 7   Fish, Seafood                 170 non-null    float64\n",
      " 8   Fruits - Excluding Wine       170 non-null    float64\n",
      " 9   Meat                          170 non-null    float64\n",
      " 10  Miscellaneous                 170 non-null    float64\n",
      " 11  Milk - Excluding Butter       170 non-null    float64\n",
      " 12  Offals                        170 non-null    float64\n",
      " 13  Oilcrops                      170 non-null    float64\n",
      " 14  Pulses                        170 non-null    float64\n",
      " 15  Spices                        170 non-null    float64\n",
      " 16  Starchy Roots                 170 non-null    float64\n",
      " 17  Stimulants                    170 non-null    float64\n",
      " 18  Sugar Crops                   170 non-null    float64\n",
      " 19  Sugar & Sweeteners            170 non-null    float64\n",
      " 20  Treenuts                      170 non-null    float64\n",
      " 21  Vegetal Products              170 non-null    float64\n",
      " 22  Vegetable Oils                170 non-null    float64\n",
      " 23  Vegetables                    170 non-null    float64\n",
      " 24  Obesity                       167 non-null    float64\n",
      " 25  Undernourished                163 non-null    object \n",
      " 26  Confirmed                     164 non-null    float64\n",
      " 27  Deaths                        164 non-null    float64\n",
      " 28  Recovered                     164 non-null    float64\n",
      " 29  Active                        162 non-null    float64\n",
      " 30  Population                    170 non-null    float64\n",
      " 31  Unit (all except Population)  170 non-null    object \n",
      "dtypes: float64(29), object(3)\n",
      "memory usage: 42.6+ KB\n"
     ]
    }
   ],
   "source": [
    "fat_quantity.info()"
   ]
  },
  {
   "attachments": {},
   "cell_type": "markdown",
   "metadata": {},
   "source": [
    "Let's create a function to **check missing data** and unveil **the percentage of data missing** for each dataframe"
   ]
  },
  {
   "cell_type": "code",
   "execution_count": 70,
   "metadata": {},
   "outputs": [],
   "source": [
    "#Drop columns with less than 25% of non null values\n",
    "\n",
    "n_lines = fat_quantity.shape[0]\n",
    "#fat_quantity = fat_quantity.dropna(axis=1,thresh=n_lines/4)#how=\"all\") \n",
    "\n",
    "#Drop lines without non null\n"
   ]
  },
  {
   "attachments": {},
   "cell_type": "markdown",
   "metadata": {},
   "source": [
    "Delete the countries for which values are missing."
   ]
  },
  {
   "cell_type": "code",
   "execution_count": 71,
   "metadata": {},
   "outputs": [
    {
     "name": "stdout",
     "output_type": "stream",
     "text": [
      "<class 'pandas.core.frame.DataFrame'>\n",
      "Int64Index: 154 entries, 0 to 169\n",
      "Data columns (total 32 columns):\n",
      " #   Column                        Non-Null Count  Dtype  \n",
      "---  ------                        --------------  -----  \n",
      " 0   Country                       154 non-null    object \n",
      " 1   Alcoholic Beverages           154 non-null    float64\n",
      " 2   Animal Products               154 non-null    float64\n",
      " 3   Animal fats                   154 non-null    float64\n",
      " 4   Aquatic Products, Other       154 non-null    float64\n",
      " 5   Cereals - Excluding Beer      154 non-null    float64\n",
      " 6   Eggs                          154 non-null    float64\n",
      " 7   Fish, Seafood                 154 non-null    float64\n",
      " 8   Fruits - Excluding Wine       154 non-null    float64\n",
      " 9   Meat                          154 non-null    float64\n",
      " 10  Miscellaneous                 154 non-null    float64\n",
      " 11  Milk - Excluding Butter       154 non-null    float64\n",
      " 12  Offals                        154 non-null    float64\n",
      " 13  Oilcrops                      154 non-null    float64\n",
      " 14  Pulses                        154 non-null    float64\n",
      " 15  Spices                        154 non-null    float64\n",
      " 16  Starchy Roots                 154 non-null    float64\n",
      " 17  Stimulants                    154 non-null    float64\n",
      " 18  Sugar Crops                   154 non-null    float64\n",
      " 19  Sugar & Sweeteners            154 non-null    float64\n",
      " 20  Treenuts                      154 non-null    float64\n",
      " 21  Vegetal Products              154 non-null    float64\n",
      " 22  Vegetable Oils                154 non-null    float64\n",
      " 23  Vegetables                    154 non-null    float64\n",
      " 24  Obesity                       154 non-null    float64\n",
      " 25  Undernourished                154 non-null    object \n",
      " 26  Confirmed                     154 non-null    float64\n",
      " 27  Deaths                        154 non-null    float64\n",
      " 28  Recovered                     154 non-null    float64\n",
      " 29  Active                        154 non-null    float64\n",
      " 30  Population                    154 non-null    float64\n",
      " 31  Unit (all except Population)  154 non-null    object \n",
      "dtypes: float64(29), object(3)\n",
      "memory usage: 39.7+ KB\n"
     ]
    },
    {
     "data": {
      "text/html": [
       "<div>\n",
       "<style scoped>\n",
       "    .dataframe tbody tr th:only-of-type {\n",
       "        vertical-align: middle;\n",
       "    }\n",
       "\n",
       "    .dataframe tbody tr th {\n",
       "        vertical-align: top;\n",
       "    }\n",
       "\n",
       "    .dataframe thead th {\n",
       "        text-align: right;\n",
       "    }\n",
       "</style>\n",
       "<table border=\"1\" class=\"dataframe\">\n",
       "  <thead>\n",
       "    <tr style=\"text-align: right;\">\n",
       "      <th></th>\n",
       "      <th>Alcoholic Beverages</th>\n",
       "      <th>Animal Products</th>\n",
       "      <th>Animal fats</th>\n",
       "      <th>Aquatic Products, Other</th>\n",
       "      <th>Cereals - Excluding Beer</th>\n",
       "      <th>Eggs</th>\n",
       "      <th>Fish, Seafood</th>\n",
       "      <th>Fruits - Excluding Wine</th>\n",
       "      <th>Meat</th>\n",
       "      <th>Miscellaneous</th>\n",
       "      <th>...</th>\n",
       "      <th>Vegetable Oils</th>\n",
       "      <th>Vegetables</th>\n",
       "      <th>Obesity</th>\n",
       "      <th>Undernourished</th>\n",
       "      <th>Confirmed</th>\n",
       "      <th>Deaths</th>\n",
       "      <th>Recovered</th>\n",
       "      <th>Active</th>\n",
       "      <th>Population</th>\n",
       "      <th>Unit (all except Population)</th>\n",
       "    </tr>\n",
       "  </thead>\n",
       "  <tbody>\n",
       "    <tr>\n",
       "      <th>0</th>\n",
       "      <td>0.0000</td>\n",
       "      <td>21.6397</td>\n",
       "      <td>6.2224</td>\n",
       "      <td>0.0</td>\n",
       "      <td>8.0353</td>\n",
       "      <td>0.6859</td>\n",
       "      <td>0.0327</td>\n",
       "      <td>0.4246</td>\n",
       "      <td>6.1244</td>\n",
       "      <td>0.0163</td>\n",
       "      <td>...</td>\n",
       "      <td>17.0831</td>\n",
       "      <td>0.3593</td>\n",
       "      <td>4.5</td>\n",
       "      <td>29.8</td>\n",
       "      <td>0.142134</td>\n",
       "      <td>0.006186</td>\n",
       "      <td>0.123374</td>\n",
       "      <td>0.012574</td>\n",
       "      <td>38928000.0</td>\n",
       "      <td>%</td>\n",
       "    </tr>\n",
       "    <tr>\n",
       "      <th>1</th>\n",
       "      <td>0.0000</td>\n",
       "      <td>32.0002</td>\n",
       "      <td>3.4172</td>\n",
       "      <td>0.0</td>\n",
       "      <td>2.6734</td>\n",
       "      <td>1.6448</td>\n",
       "      <td>0.1445</td>\n",
       "      <td>0.6418</td>\n",
       "      <td>8.7428</td>\n",
       "      <td>0.0170</td>\n",
       "      <td>...</td>\n",
       "      <td>9.2443</td>\n",
       "      <td>0.6503</td>\n",
       "      <td>22.3</td>\n",
       "      <td>6.2</td>\n",
       "      <td>2.967301</td>\n",
       "      <td>0.050951</td>\n",
       "      <td>1.792636</td>\n",
       "      <td>1.123714</td>\n",
       "      <td>2838000.0</td>\n",
       "      <td>%</td>\n",
       "    </tr>\n",
       "    <tr>\n",
       "      <th>2</th>\n",
       "      <td>0.0000</td>\n",
       "      <td>14.4175</td>\n",
       "      <td>0.8972</td>\n",
       "      <td>0.0</td>\n",
       "      <td>4.2035</td>\n",
       "      <td>1.2171</td>\n",
       "      <td>0.2008</td>\n",
       "      <td>0.5772</td>\n",
       "      <td>3.8961</td>\n",
       "      <td>0.0439</td>\n",
       "      <td>...</td>\n",
       "      <td>27.3606</td>\n",
       "      <td>0.5145</td>\n",
       "      <td>26.6</td>\n",
       "      <td>3.9</td>\n",
       "      <td>0.244897</td>\n",
       "      <td>0.006558</td>\n",
       "      <td>0.167572</td>\n",
       "      <td>0.070767</td>\n",
       "      <td>44357000.0</td>\n",
       "      <td>%</td>\n",
       "    </tr>\n",
       "    <tr>\n",
       "      <th>3</th>\n",
       "      <td>0.0000</td>\n",
       "      <td>15.3041</td>\n",
       "      <td>1.3130</td>\n",
       "      <td>0.0</td>\n",
       "      <td>6.5545</td>\n",
       "      <td>0.1539</td>\n",
       "      <td>1.4155</td>\n",
       "      <td>0.3488</td>\n",
       "      <td>11.0268</td>\n",
       "      <td>0.0308</td>\n",
       "      <td>...</td>\n",
       "      <td>22.4638</td>\n",
       "      <td>0.1231</td>\n",
       "      <td>6.8</td>\n",
       "      <td>25</td>\n",
       "      <td>0.061687</td>\n",
       "      <td>0.001461</td>\n",
       "      <td>0.056808</td>\n",
       "      <td>0.003419</td>\n",
       "      <td>32522000.0</td>\n",
       "      <td>%</td>\n",
       "    </tr>\n",
       "    <tr>\n",
       "      <th>5</th>\n",
       "      <td>0.0000</td>\n",
       "      <td>30.3572</td>\n",
       "      <td>3.3076</td>\n",
       "      <td>0.0</td>\n",
       "      <td>1.3316</td>\n",
       "      <td>1.5706</td>\n",
       "      <td>0.1664</td>\n",
       "      <td>0.2091</td>\n",
       "      <td>19.2693</td>\n",
       "      <td>0.0000</td>\n",
       "      <td>...</td>\n",
       "      <td>17.3147</td>\n",
       "      <td>0.1878</td>\n",
       "      <td>28.5</td>\n",
       "      <td>4.6</td>\n",
       "      <td>4.356147</td>\n",
       "      <td>0.108227</td>\n",
       "      <td>3.905192</td>\n",
       "      <td>0.342729</td>\n",
       "      <td>45377000.0</td>\n",
       "      <td>%</td>\n",
       "    </tr>\n",
       "    <tr>\n",
       "      <th>...</th>\n",
       "      <td>...</td>\n",
       "      <td>...</td>\n",
       "      <td>...</td>\n",
       "      <td>...</td>\n",
       "      <td>...</td>\n",
       "      <td>...</td>\n",
       "      <td>...</td>\n",
       "      <td>...</td>\n",
       "      <td>...</td>\n",
       "      <td>...</td>\n",
       "      <td>...</td>\n",
       "      <td>...</td>\n",
       "      <td>...</td>\n",
       "      <td>...</td>\n",
       "      <td>...</td>\n",
       "      <td>...</td>\n",
       "      <td>...</td>\n",
       "      <td>...</td>\n",
       "      <td>...</td>\n",
       "      <td>...</td>\n",
       "      <td>...</td>\n",
       "    </tr>\n",
       "    <tr>\n",
       "      <th>165</th>\n",
       "      <td>0.0000</td>\n",
       "      <td>16.3261</td>\n",
       "      <td>2.2673</td>\n",
       "      <td>0.0</td>\n",
       "      <td>2.5449</td>\n",
       "      <td>0.6555</td>\n",
       "      <td>0.5707</td>\n",
       "      <td>0.9640</td>\n",
       "      <td>7.0949</td>\n",
       "      <td>0.0077</td>\n",
       "      <td>...</td>\n",
       "      <td>29.5211</td>\n",
       "      <td>0.1851</td>\n",
       "      <td>25.2</td>\n",
       "      <td>21.2</td>\n",
       "      <td>0.452585</td>\n",
       "      <td>0.004287</td>\n",
       "      <td>0.424399</td>\n",
       "      <td>0.023899</td>\n",
       "      <td>28645000.0</td>\n",
       "      <td>%</td>\n",
       "    </tr>\n",
       "    <tr>\n",
       "      <th>166</th>\n",
       "      <td>0.0000</td>\n",
       "      <td>33.2484</td>\n",
       "      <td>3.8238</td>\n",
       "      <td>0.0</td>\n",
       "      <td>3.7155</td>\n",
       "      <td>0.7839</td>\n",
       "      <td>1.1217</td>\n",
       "      <td>0.4079</td>\n",
       "      <td>26.4292</td>\n",
       "      <td>0.0064</td>\n",
       "      <td>...</td>\n",
       "      <td>5.6211</td>\n",
       "      <td>0.6373</td>\n",
       "      <td>2.1</td>\n",
       "      <td>9.3</td>\n",
       "      <td>0.002063</td>\n",
       "      <td>0.000036</td>\n",
       "      <td>0.001526</td>\n",
       "      <td>0.000501</td>\n",
       "      <td>96209000.0</td>\n",
       "      <td>%</td>\n",
       "    </tr>\n",
       "    <tr>\n",
       "      <th>167</th>\n",
       "      <td>0.0000</td>\n",
       "      <td>12.5401</td>\n",
       "      <td>2.0131</td>\n",
       "      <td>0.0</td>\n",
       "      <td>11.5271</td>\n",
       "      <td>0.5514</td>\n",
       "      <td>0.3847</td>\n",
       "      <td>0.2564</td>\n",
       "      <td>8.0010</td>\n",
       "      <td>0.0256</td>\n",
       "      <td>...</td>\n",
       "      <td>23.6312</td>\n",
       "      <td>0.1667</td>\n",
       "      <td>14.1</td>\n",
       "      <td>38.9</td>\n",
       "      <td>0.007131</td>\n",
       "      <td>0.002062</td>\n",
       "      <td>0.004788</td>\n",
       "      <td>0.000282</td>\n",
       "      <td>29826000.0</td>\n",
       "      <td>%</td>\n",
       "    </tr>\n",
       "    <tr>\n",
       "      <th>168</th>\n",
       "      <td>0.0783</td>\n",
       "      <td>9.6005</td>\n",
       "      <td>1.6113</td>\n",
       "      <td>0.0</td>\n",
       "      <td>14.3225</td>\n",
       "      <td>0.6266</td>\n",
       "      <td>1.0070</td>\n",
       "      <td>0.1343</td>\n",
       "      <td>4.9010</td>\n",
       "      <td>0.0224</td>\n",
       "      <td>...</td>\n",
       "      <td>15.2848</td>\n",
       "      <td>0.1567</td>\n",
       "      <td>6.5</td>\n",
       "      <td>46.7</td>\n",
       "      <td>0.334133</td>\n",
       "      <td>0.004564</td>\n",
       "      <td>0.290524</td>\n",
       "      <td>0.039045</td>\n",
       "      <td>18384000.0</td>\n",
       "      <td>%</td>\n",
       "    </tr>\n",
       "    <tr>\n",
       "      <th>169</th>\n",
       "      <td>0.0000</td>\n",
       "      <td>10.3796</td>\n",
       "      <td>2.9543</td>\n",
       "      <td>0.0</td>\n",
       "      <td>9.7922</td>\n",
       "      <td>0.3682</td>\n",
       "      <td>0.2455</td>\n",
       "      <td>0.0614</td>\n",
       "      <td>4.5674</td>\n",
       "      <td>0.0175</td>\n",
       "      <td>...</td>\n",
       "      <td>26.9396</td>\n",
       "      <td>0.0789</td>\n",
       "      <td>12.3</td>\n",
       "      <td>51.3</td>\n",
       "      <td>0.232033</td>\n",
       "      <td>0.008854</td>\n",
       "      <td>0.190964</td>\n",
       "      <td>0.032214</td>\n",
       "      <td>14863000.0</td>\n",
       "      <td>%</td>\n",
       "    </tr>\n",
       "  </tbody>\n",
       "</table>\n",
       "<p>154 rows × 31 columns</p>\n",
       "</div>"
      ],
      "text/plain": [
       "     Alcoholic Beverages  Animal Products  Animal fats  \\\n",
       "0                 0.0000          21.6397       6.2224   \n",
       "1                 0.0000          32.0002       3.4172   \n",
       "2                 0.0000          14.4175       0.8972   \n",
       "3                 0.0000          15.3041       1.3130   \n",
       "5                 0.0000          30.3572       3.3076   \n",
       "..                   ...              ...          ...   \n",
       "165               0.0000          16.3261       2.2673   \n",
       "166               0.0000          33.2484       3.8238   \n",
       "167               0.0000          12.5401       2.0131   \n",
       "168               0.0783           9.6005       1.6113   \n",
       "169               0.0000          10.3796       2.9543   \n",
       "\n",
       "     Aquatic Products, Other  Cereals - Excluding Beer    Eggs  Fish, Seafood  \\\n",
       "0                        0.0                    8.0353  0.6859         0.0327   \n",
       "1                        0.0                    2.6734  1.6448         0.1445   \n",
       "2                        0.0                    4.2035  1.2171         0.2008   \n",
       "3                        0.0                    6.5545  0.1539         1.4155   \n",
       "5                        0.0                    1.3316  1.5706         0.1664   \n",
       "..                       ...                       ...     ...            ...   \n",
       "165                      0.0                    2.5449  0.6555         0.5707   \n",
       "166                      0.0                    3.7155  0.7839         1.1217   \n",
       "167                      0.0                   11.5271  0.5514         0.3847   \n",
       "168                      0.0                   14.3225  0.6266         1.0070   \n",
       "169                      0.0                    9.7922  0.3682         0.2455   \n",
       "\n",
       "     Fruits - Excluding Wine     Meat  Miscellaneous  ...  Vegetable Oils  \\\n",
       "0                     0.4246   6.1244         0.0163  ...         17.0831   \n",
       "1                     0.6418   8.7428         0.0170  ...          9.2443   \n",
       "2                     0.5772   3.8961         0.0439  ...         27.3606   \n",
       "3                     0.3488  11.0268         0.0308  ...         22.4638   \n",
       "5                     0.2091  19.2693         0.0000  ...         17.3147   \n",
       "..                       ...      ...            ...  ...             ...   \n",
       "165                   0.9640   7.0949         0.0077  ...         29.5211   \n",
       "166                   0.4079  26.4292         0.0064  ...          5.6211   \n",
       "167                   0.2564   8.0010         0.0256  ...         23.6312   \n",
       "168                   0.1343   4.9010         0.0224  ...         15.2848   \n",
       "169                   0.0614   4.5674         0.0175  ...         26.9396   \n",
       "\n",
       "     Vegetables  Obesity  Undernourished  Confirmed    Deaths  Recovered  \\\n",
       "0        0.3593      4.5            29.8   0.142134  0.006186   0.123374   \n",
       "1        0.6503     22.3             6.2   2.967301  0.050951   1.792636   \n",
       "2        0.5145     26.6             3.9   0.244897  0.006558   0.167572   \n",
       "3        0.1231      6.8              25   0.061687  0.001461   0.056808   \n",
       "5        0.1878     28.5             4.6   4.356147  0.108227   3.905192   \n",
       "..          ...      ...             ...        ...       ...        ...   \n",
       "165      0.1851     25.2            21.2   0.452585  0.004287   0.424399   \n",
       "166      0.6373      2.1             9.3   0.002063  0.000036   0.001526   \n",
       "167      0.1667     14.1            38.9   0.007131  0.002062   0.004788   \n",
       "168      0.1567      6.5            46.7   0.334133  0.004564   0.290524   \n",
       "169      0.0789     12.3            51.3   0.232033  0.008854   0.190964   \n",
       "\n",
       "       Active  Population  Unit (all except Population)  \n",
       "0    0.012574  38928000.0                             %  \n",
       "1    1.123714   2838000.0                             %  \n",
       "2    0.070767  44357000.0                             %  \n",
       "3    0.003419  32522000.0                             %  \n",
       "5    0.342729  45377000.0                             %  \n",
       "..        ...         ...                           ...  \n",
       "165  0.023899  28645000.0                             %  \n",
       "166  0.000501  96209000.0                             %  \n",
       "167  0.000282  29826000.0                             %  \n",
       "168  0.039045  18384000.0                             %  \n",
       "169  0.032214  14863000.0                             %  \n",
       "\n",
       "[154 rows x 31 columns]"
      ]
     },
     "execution_count": 71,
     "metadata": {},
     "output_type": "execute_result"
    }
   ],
   "source": [
    "fat_quantity =fat_quantity.dropna(how=\"any\", axis=0)\n",
    "\n",
    "fat_quantity.info()\n",
    "\n",
    "fat_quantity.drop(columns='Country', axis=1)"
   ]
  },
  {
   "attachments": {},
   "cell_type": "markdown",
   "metadata": {},
   "source": [
    "Look at the different data types for each variable."
   ]
  },
  {
   "cell_type": "code",
   "execution_count": 72,
   "metadata": {},
   "outputs": [
    {
     "name": "stdout",
     "output_type": "stream",
     "text": [
      "Index(['Country', 'Undernourished', 'Unit (all except Population)'], dtype='object')\n",
      "Index(['Alcoholic Beverages', 'Animal Products', 'Animal fats',\n",
      "       'Aquatic Products, Other', 'Cereals - Excluding Beer', 'Eggs',\n",
      "       'Fish, Seafood', 'Fruits - Excluding Wine', 'Meat', 'Miscellaneous',\n",
      "       'Milk - Excluding Butter', 'Offals', 'Oilcrops', 'Pulses', 'Spices',\n",
      "       'Starchy Roots', 'Stimulants', 'Sugar Crops', 'Sugar & Sweeteners',\n",
      "       'Treenuts', 'Vegetal Products', 'Vegetable Oils', 'Vegetables',\n",
      "       'Obesity', 'Confirmed', 'Deaths', 'Recovered', 'Active', 'Population'],\n",
      "      dtype='object')\n"
     ]
    }
   ],
   "source": [
    "cat_names = fat_quantity.select_dtypes(include='object').columns\n",
    "num_names = fat_quantity.select_dtypes(exclude='object').columns\n",
    "\n",
    "print(cat_names)\n",
    "print(num_names)\n",
    "\n"
   ]
  },
  {
   "attachments": {},
   "cell_type": "markdown",
   "metadata": {},
   "source": [
    "Explore the variables that are not of float type and see of you can convert them in to float type."
   ]
  },
  {
   "cell_type": "code",
   "execution_count": 73,
   "metadata": {},
   "outputs": [],
   "source": [
    "#below\n",
    "df_dum = pd.get_dummies(fat_quantity[cat_names], dtype=float)\n",
    "\n",
    "# Remove the original and concate the news\n",
    "fat_quantity = pd.concat([fat_quantity.drop(columns=cat_names), df_dum],axis=1)\n",
    "\n",
    "cat_names = df_dum.columns\n"
   ]
  },
  {
   "attachments": {},
   "cell_type": "markdown",
   "metadata": {},
   "source": [
    "# Clustering"
   ]
  },
  {
   "attachments": {},
   "cell_type": "markdown",
   "metadata": {},
   "source": [
    "## Data preparation"
   ]
  },
  {
   "attachments": {},
   "cell_type": "markdown",
   "metadata": {},
   "source": [
    "Scale the dataset"
   ]
  },
  {
   "cell_type": "code",
   "execution_count": 74,
   "metadata": {},
   "outputs": [],
   "source": [
    "from sklearn.preprocessing import StandardScaler, OneHotEncoder\n",
    "from sklearn.compose import ColumnTransformer\n",
    "from sklearn.pipeline import Pipeline\n",
    "from sklearn.impute import SimpleImputer\n",
    "\n",
    "scaler = StandardScaler()\n",
    "fat_quantity_scaled = scaler.fit(fat_quantity)\n",
    "\n",
    "\n",
    "def fit_model(estimator, X):\n",
    "\n",
    "    # Pipelines\n",
    "    #num_pipeline = Pipeline([\n",
    "    #    ('imputer', SimpleImputer(strategy=\"median\")),\n",
    "    #    ('scaler', StandardScaler())\n",
    "    #])\n",
    "\n",
    "    #cat_pipeline = Pipeline([\n",
    "    #    ('imputer', SimpleImputer(strategy=\"most_frequent\")),\n",
    "       # ('encoder', OneHotEncoder(handle_unknown='ignore'))\n",
    "    #])\n",
    "\n",
    "    #transform_pipeline = ColumnTransformer([\n",
    "    #    (\"num\", num_pipeline, num_names),\n",
    "    #    (\"cat\", cat_pipeline, cat_names)\n",
    "    #])\n",
    "\n",
    "    # full pipeline\n",
    "    model_pipeline = Pipeline([\n",
    "        (\"processor\", StandardScaler()),\n",
    "        (\"model\", estimator)\n",
    "    ])\n",
    "    model = model_pipeline.fit(X)\n",
    "    return model\n",
    "\n",
    "    \n"
   ]
  },
  {
   "attachments": {},
   "cell_type": "markdown",
   "metadata": {},
   "source": [
    "## Plot some data"
   ]
  },
  {
   "attachments": {},
   "cell_type": "markdown",
   "metadata": {},
   "source": [
    "Now, we want to visualize some variables for each state. To do so, we use plotly express to have the possibility to hover on a scatter plot and see the statistics per country clearer as explained here."
   ]
  },
  {
   "attachments": {},
   "cell_type": "markdown",
   "metadata": {},
   "source": [
    "https://plotly.com/python/hover-text-and-formatting/#:~:text=Basic%20Charts%20tutorials.-,Hover%20Labels,having%20a%20hover%20label%20appear."
   ]
  },
  {
   "attachments": {},
   "cell_type": "markdown",
   "metadata": {},
   "source": [
    "Plot the \"Obesity\" vs \"Deaths\" statistics"
   ]
  },
  {
   "cell_type": "code",
   "execution_count": 75,
   "metadata": {},
   "outputs": [
    {
     "data": {
      "text/plain": [
       "Text(0.5, 0, 'Obesity')"
      ]
     },
     "execution_count": 75,
     "metadata": {},
     "output_type": "execute_result"
    },
    {
     "data": {
      "image/png": "[encoded data removed]",
      "text/plain": [
       "<Figure size 640x480 with 1 Axes>"
      ]
     },
     "metadata": {},
     "output_type": "display_data"
    }
   ],
   "source": [
    "plt.scatter(fat_quantity['Obesity'],fat_quantity['Deaths'])\n",
    "plt.ylabel('Deaths')\n",
    "plt.xlabel('Obesity')"
   ]
  },
  {
   "attachments": {},
   "cell_type": "markdown",
   "metadata": {},
   "source": [
    "Plot the \"Animal fats\" vs \"Deaths\" statistics"
   ]
  },
  {
   "cell_type": "code",
   "execution_count": 76,
   "metadata": {},
   "outputs": [
    {
     "data": {
      "text/plain": [
       "Text(0.5, 0, 'Animal fats')"
      ]
     },
     "execution_count": 76,
     "metadata": {},
     "output_type": "execute_result"
    },
    {
     "data": {
      "image/png": "[encoded data removed]",
      "text/plain": [
       "<Figure size 640x480 with 1 Axes>"
      ]
     },
     "metadata": {},
     "output_type": "display_data"
    }
   ],
   "source": [
    "plt.scatter(fat_quantity['Animal fats'],fat_quantity['Deaths'])\n",
    "plt.ylabel('Deaths')\n",
    "plt.xlabel('Animal fats')"
   ]
  },
  {
   "attachments": {},
   "cell_type": "markdown",
   "metadata": {},
   "source": [
    "## K-means and Elbow method"
   ]
  },
  {
   "attachments": {},
   "cell_type": "markdown",
   "metadata": {},
   "source": [
    "We start with the K-Means model:\n",
    "- use the scikit-learn method\n",
    "- use the method you implemented.\n",
    "\n",
    "Use a graphical tool, the elbow method, to estimate the optimal number of clusters k for a given task.\n",
    "- Determine the optimal number of clusters for the previous 2 plots."
   ]
  },
  {
   "cell_type": "code",
   "execution_count": 84,
   "metadata": {},
   "outputs": [
    {
     "name": "stdout",
     "output_type": "stream",
     "text": [
      " stop in the iteration 17\n"
     ]
    }
   ],
   "source": [
    "from sklearn.cluster import KMeans\n",
    "from modulekmeans import Kmeans\n",
    "from sklearn.decomposition import PCA\n",
    "\n",
    "\n",
    "X = fat_quantity \n",
    "\n",
    "\n",
    "\n",
    "#Sklearn\n",
    "skl_kmeans = KMeans(n_clusters=5, random_state=42)\n",
    "#skl_kmeans = fit_model(skl_kmeans,X)\n",
    "skl_kmeans.fit(X)\n",
    "skl_labels = skl_kmeans.labels_\n",
    "skl_centroids = skl_kmeans.cluster_centers_\n",
    "\n",
    "#my code\n",
    "\n",
    "X_array = X.to_numpy()\n",
    "my_kmeans = Kmeans(K=5, random_state=42)\n",
    "#my_kmeans = fit_model(my_kmeans, X_array)\n",
    "my_kmeans.fit(X_array)\n",
    "my_labels= my_kmeans.labels\n",
    "my_centroids = my_kmeans.centroids\n",
    "\n"
   ]
  },
  {
   "attachments": {},
   "cell_type": "markdown",
   "metadata": {},
   "source": [
    "Plot the obtained clusters"
   ]
  },
  {
   "cell_type": "code",
   "execution_count": 87,
   "metadata": {},
   "outputs": [
    {
     "data": {
      "image/png": "[encoded data removed]",
      "text/plain": [
       "<Figure size 800x600 with 1 Axes>"
      ]
     },
     "metadata": {},
     "output_type": "display_data"
    }
   ],
   "source": [
    "pca = PCA(n_components=2)\n",
    "X_pca = pca.fit_transform(X)\n",
    "my_centroids_pca = pca.transform(my_centroids)\n",
    "skl_centroids_pca = pca.transform(skl_centroids)\n",
    "\n",
    "# Plotando os clusters\n",
    "plt.figure(figsize=(8,6))\n",
    "plt.scatter(X_pca[:,0], X_pca[:,1],c=skl_labels, cmap='tab10' , s=50)\n",
    "plt.scatter(my_centroids_pca[:,0], my_centroids_pca[:,1], c='black', s=70, marker='X', label='my_Centroids')\n",
    "plt.scatter(skl_centroids_pca[:,0], skl_centroids_pca[:,1], c='black', s=50, marker='o', label='skl_Centroids')\n",
    "\n",
    "plt.xlabel(\"PCA Component 1\")\n",
    "plt.ylabel(\"PCA Component 2\")\n",
    "plt.title(\"Clusters visualized with PCA\")\n",
    "plt.legend()\n",
    "#plt.colorbar(label='Cluster')\n",
    "plt.show()\n"
   ]
  },
  {
   "attachments": {},
   "cell_type": "markdown",
   "metadata": {},
   "source": [
    "## Other clustering methods"
   ]
  },
  {
   "attachments": {},
   "cell_type": "markdown",
   "metadata": {},
   "source": [
    "We are going to explore other clustering methods, such as Mean-Shift.\n",
    "\n",
    "You can read more about it in the next ressource:\n",
    "https://scikit-learn.org/stable/modules/clustering.html\n"
   ]
  },
  {
   "attachments": {},
   "cell_type": "markdown",
   "metadata": {},
   "source": [
    "Apply the method to our datasets made of 2 variables (\"Obesity\" vs \"Deaths\")"
   ]
  },
  {
   "cell_type": "code",
   "execution_count": 79,
   "metadata": {},
   "outputs": [],
   "source": [
    "# Mean-Shift\n",
    "from sklearn.cluster import MeanShift, estimate_bandwidth\n"
   ]
  },
  {
   "attachments": {},
   "cell_type": "markdown",
   "metadata": {},
   "source": [
    "Plot the obtained clusters"
   ]
  },
  {
   "cell_type": "code",
   "execution_count": null,
   "metadata": {},
   "outputs": [],
   "source": []
  },
  {
   "attachments": {},
   "cell_type": "markdown",
   "metadata": {},
   "source": [
    "Check out other algorithms such as DBSAN or OPTICS, why are these algorithms very interesting and in what cases? "
   ]
  },
  {
   "cell_type": "code",
   "execution_count": 80,
   "metadata": {},
   "outputs": [],
   "source": [
    "from sklearn.cluster import DBSCAN\n"
   ]
  },
  {
   "cell_type": "code",
   "execution_count": null,
   "metadata": {},
   "outputs": [],
   "source": []
  },
  {
   "attachments": {},
   "cell_type": "markdown",
   "metadata": {},
   "source": [
    "# Regression and prediction"
   ]
  },
  {
   "attachments": {},
   "cell_type": "markdown",
   "metadata": {},
   "source": [
    "Given this dataset and the emphasis we have already laid on deaths through clustering, it would be interesting to study this dataset for a classification purpose and see how accurately we can predict the mortality rate in fonction of the given features."
   ]
  },
  {
   "attachments": {},
   "cell_type": "markdown",
   "metadata": {},
   "source": [
    "## Creating train and test sets "
   ]
  },
  {
   "attachments": {},
   "cell_type": "markdown",
   "metadata": {},
   "source": [
    "Let's separate the data into a training and testing sets using random selection."
   ]
  },
  {
   "cell_type": "code",
   "execution_count": null,
   "metadata": {},
   "outputs": [],
   "source": []
  },
  {
   "attachments": {},
   "cell_type": "markdown",
   "metadata": {},
   "source": [
    "Now drop the labels from the training set and create a new variable for the labels."
   ]
  },
  {
   "cell_type": "code",
   "execution_count": null,
   "metadata": {},
   "outputs": [],
   "source": []
  },
  {
   "attachments": {},
   "cell_type": "markdown",
   "metadata": {},
   "source": [
    "Scale the datasets."
   ]
  },
  {
   "cell_type": "code",
   "execution_count": null,
   "metadata": {},
   "outputs": [],
   "source": []
  },
  {
   "attachments": {},
   "cell_type": "markdown",
   "metadata": {},
   "source": [
    "## Random Forest"
   ]
  },
  {
   "attachments": {},
   "cell_type": "markdown",
   "metadata": {},
   "source": [
    "Let's try a random forest model on the prepared fat_quantity training set."
   ]
  },
  {
   "cell_type": "code",
   "execution_count": null,
   "metadata": {},
   "outputs": [],
   "source": []
  },
  {
   "attachments": {},
   "cell_type": "markdown",
   "metadata": {},
   "source": [
    "Now we predict."
   ]
  },
  {
   "cell_type": "code",
   "execution_count": null,
   "metadata": {},
   "outputs": [],
   "source": []
  },
  {
   "attachments": {},
   "cell_type": "markdown",
   "metadata": {},
   "source": [
    "Let's perform a 10 fold cross validation.\n",
    "And display the resulting scores:"
   ]
  },
  {
   "cell_type": "code",
   "execution_count": null,
   "metadata": {},
   "outputs": [],
   "source": []
  },
  {
   "attachments": {},
   "cell_type": "markdown",
   "metadata": {},
   "source": [
    "## Learning Curves analysis "
   ]
  },
  {
   "attachments": {},
   "cell_type": "markdown",
   "metadata": {},
   "source": [
    "Use the function seen in **Module 1 to plot learning curves with cross validation.** "
   ]
  },
  {
   "cell_type": "code",
   "execution_count": 81,
   "metadata": {},
   "outputs": [],
   "source": [
    "from sklearn.model_selection import learning_curve\n",
    "\n",
    "def plot_learning_curve(estimator, title, X, y, axes=None, ylim=None, cv=None,\n",
    "                        n_jobs=None, train_sizes=np.linspace(.1, 1.0, 5)):\n",
    "    pass"
   ]
  },
  {
   "attachments": {},
   "cell_type": "markdown",
   "metadata": {},
   "source": [
    "Try to interpret the obtained learning curve."
   ]
  },
  {
   "cell_type": "code",
   "execution_count": null,
   "metadata": {},
   "outputs": [],
   "source": []
  },
  {
   "attachments": {},
   "cell_type": "markdown",
   "metadata": {},
   "source": [
    "Perform a grid search to try to obtain the best hyperparameters. What is the best score that you obtained?"
   ]
  },
  {
   "cell_type": "code",
   "execution_count": null,
   "metadata": {},
   "outputs": [],
   "source": []
  },
  {
   "attachments": {},
   "cell_type": "markdown",
   "metadata": {},
   "source": [
    "## SVM"
   ]
  },
  {
   "attachments": {},
   "cell_type": "markdown",
   "metadata": {},
   "source": [
    "Use the SVM regressor to estimate the death rate. See if you can get a better model than with the Random forest regressor."
   ]
  },
  {
   "cell_type": "code",
   "execution_count": null,
   "metadata": {},
   "outputs": [],
   "source": []
  },
  {
   "attachments": {},
   "cell_type": "markdown",
   "metadata": {},
   "source": [
    "## Linear regression"
   ]
  },
  {
   "cell_type": "code",
   "execution_count": null,
   "metadata": {},
   "outputs": [],
   "source": []
  },
  {
   "attachments": {},
   "cell_type": "markdown",
   "metadata": {},
   "source": [
    "# Dimensionality reduction"
   ]
  },
  {
   "attachments": {},
   "cell_type": "markdown",
   "metadata": {},
   "source": [
    "Let's take a look at the whole dataset and see if there are any clusters.\n",
    "\n",
    "In order to do these perform and plot a PCA of 2 components.\n",
    "\n",
    "Dimensionality reduction is a way to reduce the number of features in your dataset without having to lose much information and keep the model’s performance. Check out the Random Forest based method and PCA for dimensionality reduction in the following ressource:\n",
    "\n",
    "https://www.analyticsvidhya.com/blog/2018/08/dimensionality-reduction-techniques-python/"
   ]
  },
  {
   "attachments": {},
   "cell_type": "markdown",
   "metadata": {},
   "source": [
    "## Random Forest feature selection"
   ]
  },
  {
   "cell_type": "code",
   "execution_count": null,
   "metadata": {},
   "outputs": [],
   "source": []
  },
  {
   "attachments": {},
   "cell_type": "markdown",
   "metadata": {},
   "source": [
    "Plot the feature importance graph."
   ]
  },
  {
   "cell_type": "code",
   "execution_count": null,
   "metadata": {},
   "outputs": [],
   "source": []
  },
  {
   "attachments": {},
   "cell_type": "markdown",
   "metadata": {},
   "source": [
    "Comment the graph."
   ]
  },
  {
   "attachments": {},
   "cell_type": "markdown",
   "metadata": {},
   "source": [
    "## PCA dimensionality reduction"
   ]
  },
  {
   "attachments": {},
   "cell_type": "markdown",
   "metadata": {},
   "source": [
    "PCA is a technique which helps us in extracting a new set of variables from an existing large set of variables. Apply clustering methods on this new set of variables. Are the clusters obtained different than the clusters obtained on the \"Obesity\" vs \"Deaths\"?\n",
    "\n",
    "Apply the Elbow method to determne the right number of clusters.\n",
    "\n",
    "Use diverse methods to cluster the countries."
   ]
  },
  {
   "cell_type": "code",
   "execution_count": null,
   "metadata": {},
   "outputs": [],
   "source": []
  }
 ],
 "metadata": {
  "kernelspec": {
   "display_name": "base",
   "language": "python",
   "name": "python3"
  },
  "language_info": {
   "codemirror_mode": {
    "name": "ipython",
    "version": 3
   },
   "file_extension": ".py",
   "mimetype": "text/x-python",
   "name": "python",
   "nbconvert_exporter": "python",
   "pygments_lexer": "ipython3",
   "version": "3.8.8"
  },
  "toc": {
   "base_numbering": 1,
   "nav_menu": {},
   "number_sections": true,
   "sideBar": true,
   "skip_h1_title": false,
   "title_cell": "Table of Contents",
   "title_sidebar": "Contents",
   "toc_cell": false,
   "toc_position": {},
   "toc_section_display": true,
   "toc_window_display": true
  },
  "varInspector": {
   "cols": {
    "lenName": 16,
    "lenType": 16,
    "lenVar": 40
   },
   "kernels_config": {
    "python": {
     "delete_cmd_postfix": "",
     "delete_cmd_prefix": "del ",
     "library": "var_list.py",
     "varRefreshCmd": "print(var_dic_list())"
    },
    "r": {
     "delete_cmd_postfix": ") ",
     "delete_cmd_prefix": "rm(",
     "library": "var_list.r",
     "varRefreshCmd": "cat(var_dic_list()) "
    }
   },
   "types_to_exclude": [
    "module",
    "function",
    "builtin_function_or_method",
    "instance",
    "_Feature"
   ],
   "window_display": false
  }
 },
 "nbformat": 4,
 "nbformat_minor": 4
}
