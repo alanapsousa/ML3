{
 "cells": [
  {
   "attachments": {},
   "cell_type": "markdown",
   "metadata": {},
   "source": [
    "# Dataset "
   ]
  },
  {
   "attachments": {},
   "cell_type": "markdown",
   "metadata": {},
   "source": [
    "https://www.kaggle.com/mariaren/covid19-healthy-diet-dataset"
   ]
  },
  {
   "attachments": {},
   "cell_type": "markdown",
   "metadata": {},
   "source": [
    "# Problem definition "
   ]
  },
  {
   "attachments": {},
   "cell_type": "markdown",
   "metadata": {},
   "source": [
    "We chose a dataset combining different types of food, world population obesity and undernourished rate, and global covid cases count from around the world.\n",
    "\n",
    "The idea is to understand how a healthy eating style could help combat the coronavirus, distinguishing the diet patterns from countries with lower COVID infection rate.\n",
    "\n",
    "Our goal here is to provide diet recommendations based on our findings.\n",
    "\n",
    "Each dataset provides different diet measure different categories of food, depending on what we want to focus on, so we have\n",
    "\n",
    "- fat quantity,\n",
    "- energy intake (kcal),\n",
    "- food supply quantity (kg),\n",
    "- protein for different categories of food\n",
    "\n",
    "To which have been added:\n",
    "\n",
    "- obesity rate\n",
    "- undernourished rate\n",
    "- the most up to date confirmed/deaths/recovered/active cases.\n",
    "\n",
    "We are going to focus on the fat quantity dataset."
   ]
  },
  {
   "cell_type": "code",
   "execution_count": 135,
   "metadata": {},
   "outputs": [],
   "source": [
    "import numpy as np\n",
    "import pandas as pd\n",
    "\n",
    "from sklearn.datasets import load_iris\n",
    "import matplotlib.pyplot as plt\n",
    "\n",
    "from sklearn import tree\n",
    "from sklearn.tree import DecisionTreeClassifier\n",
    "from sklearn.ensemble import RandomForestClassifier\n",
    "from sklearn.linear_model import LinearRegression\n",
    "from sklearn.model_selection import learning_curve\n",
    "from sklearn.tree import export_graphviz, plot_tree\n",
    "from sklearn import metrics\n",
    "from sklearn.preprocessing import StandardScaler\n",
    "from sklearn.model_selection import train_test_split\n",
    "from sklearn.model_selection import KFold\n",
    "from sklearn.metrics import mean_squared_error\n",
    "from sklearn.svm import LinearSVC, SVC, SVR"
   ]
  },
  {
   "attachments": {},
   "cell_type": "markdown",
   "metadata": {},
   "source": [
    "Let's start by loading the data"
   ]
  },
  {
   "cell_type": "code",
   "execution_count": 136,
   "metadata": {},
   "outputs": [],
   "source": [
    "fat_quantity = pd.read_csv(\"ML3.3_data/Fat_Supply_Quantity_Data.csv\")"
   ]
  },
  {
   "attachments": {},
   "cell_type": "markdown",
   "metadata": {},
   "source": [
    " ## Data Exploration and Processing"
   ]
  },
  {
   "attachments": {},
   "cell_type": "markdown",
   "metadata": {},
   "source": [
    "Now let's explore the dataset:\n",
    "- check the head\n",
    "- the columns\n",
    "- the variable types"
   ]
  },
  {
   "cell_type": "code",
   "execution_count": 137,
   "metadata": {},
   "outputs": [
    {
     "data": {
      "text/html": [
       "<div>\n",
       "<style scoped>\n",
       "    .dataframe tbody tr th:only-of-type {\n",
       "        vertical-align: middle;\n",
       "    }\n",
       "\n",
       "    .dataframe tbody tr th {\n",
       "        vertical-align: top;\n",
       "    }\n",
       "\n",
       "    .dataframe thead th {\n",
       "        text-align: right;\n",
       "    }\n",
       "</style>\n",
       "<table border=\"1\" class=\"dataframe\">\n",
       "  <thead>\n",
       "    <tr style=\"text-align: right;\">\n",
       "      <th></th>\n",
       "      <th>Country</th>\n",
       "      <th>Alcoholic Beverages</th>\n",
       "      <th>Animal Products</th>\n",
       "      <th>Animal fats</th>\n",
       "      <th>Aquatic Products, Other</th>\n",
       "      <th>Cereals - Excluding Beer</th>\n",
       "      <th>Eggs</th>\n",
       "      <th>Fish, Seafood</th>\n",
       "      <th>Fruits - Excluding Wine</th>\n",
       "      <th>Meat</th>\n",
       "      <th>...</th>\n",
       "      <th>Vegetable Oils</th>\n",
       "      <th>Vegetables</th>\n",
       "      <th>Obesity</th>\n",
       "      <th>Undernourished</th>\n",
       "      <th>Confirmed</th>\n",
       "      <th>Deaths</th>\n",
       "      <th>Recovered</th>\n",
       "      <th>Active</th>\n",
       "      <th>Population</th>\n",
       "      <th>Unit (all except Population)</th>\n",
       "    </tr>\n",
       "  </thead>\n",
       "  <tbody>\n",
       "    <tr>\n",
       "      <th>6</th>\n",
       "      <td>Armenia</td>\n",
       "      <td>0.0</td>\n",
       "      <td>29.6642</td>\n",
       "      <td>6.2619</td>\n",
       "      <td>0.0</td>\n",
       "      <td>2.5068</td>\n",
       "      <td>1.6196</td>\n",
       "      <td>0.2218</td>\n",
       "      <td>0.5468</td>\n",
       "      <td>10.8165</td>\n",
       "      <td>...</td>\n",
       "      <td>12.8127</td>\n",
       "      <td>0.8717</td>\n",
       "      <td>20.9</td>\n",
       "      <td>4.3</td>\n",
       "      <td>5.681225</td>\n",
       "      <td>0.105345</td>\n",
       "      <td>5.398410</td>\n",
       "      <td>0.177470</td>\n",
       "      <td>2956000.0</td>\n",
       "      <td>%</td>\n",
       "    </tr>\n",
       "    <tr>\n",
       "      <th>12</th>\n",
       "      <td>Barbados</td>\n",
       "      <td>0.0</td>\n",
       "      <td>25.8451</td>\n",
       "      <td>3.9733</td>\n",
       "      <td>0.0</td>\n",
       "      <td>2.1187</td>\n",
       "      <td>1.2130</td>\n",
       "      <td>1.8060</td>\n",
       "      <td>0.4636</td>\n",
       "      <td>13.1382</td>\n",
       "      <td>...</td>\n",
       "      <td>15.6882</td>\n",
       "      <td>0.2534</td>\n",
       "      <td>24.8</td>\n",
       "      <td>3.9</td>\n",
       "      <td>0.583972</td>\n",
       "      <td>0.006272</td>\n",
       "      <td>0.470035</td>\n",
       "      <td>0.107666</td>\n",
       "      <td>287000.0</td>\n",
       "      <td>%</td>\n",
       "    </tr>\n",
       "    <tr>\n",
       "      <th>138</th>\n",
       "      <td>Slovenia</td>\n",
       "      <td>0.0</td>\n",
       "      <td>26.6163</td>\n",
       "      <td>10.0008</td>\n",
       "      <td>0.0</td>\n",
       "      <td>3.5771</td>\n",
       "      <td>1.1287</td>\n",
       "      <td>0.3693</td>\n",
       "      <td>0.4606</td>\n",
       "      <td>8.5899</td>\n",
       "      <td>...</td>\n",
       "      <td>13.8684</td>\n",
       "      <td>0.2697</td>\n",
       "      <td>22.5</td>\n",
       "      <td>&lt;2.5</td>\n",
       "      <td>8.235901</td>\n",
       "      <td>0.171755</td>\n",
       "      <td>7.312934</td>\n",
       "      <td>0.751213</td>\n",
       "      <td>2103000.0</td>\n",
       "      <td>%</td>\n",
       "    </tr>\n",
       "    <tr>\n",
       "      <th>64</th>\n",
       "      <td>Haiti</td>\n",
       "      <td>0.0</td>\n",
       "      <td>12.1462</td>\n",
       "      <td>1.7481</td>\n",
       "      <td>0.0</td>\n",
       "      <td>5.7517</td>\n",
       "      <td>0.1353</td>\n",
       "      <td>0.3722</td>\n",
       "      <td>1.6804</td>\n",
       "      <td>7.8944</td>\n",
       "      <td>...</td>\n",
       "      <td>25.1494</td>\n",
       "      <td>0.1241</td>\n",
       "      <td>20.5</td>\n",
       "      <td>49.3</td>\n",
       "      <td>0.103113</td>\n",
       "      <td>0.002149</td>\n",
       "      <td>0.080295</td>\n",
       "      <td>0.020670</td>\n",
       "      <td>11403000.0</td>\n",
       "      <td>%</td>\n",
       "    </tr>\n",
       "    <tr>\n",
       "      <th>98</th>\n",
       "      <td>Mauritania</td>\n",
       "      <td>0.0</td>\n",
       "      <td>17.4021</td>\n",
       "      <td>1.7485</td>\n",
       "      <td>0.0</td>\n",
       "      <td>4.3092</td>\n",
       "      <td>0.4337</td>\n",
       "      <td>0.5369</td>\n",
       "      <td>0.0895</td>\n",
       "      <td>5.7479</td>\n",
       "      <td>...</td>\n",
       "      <td>26.9567</td>\n",
       "      <td>0.1514</td>\n",
       "      <td>11.3</td>\n",
       "      <td>10.4</td>\n",
       "      <td>0.361118</td>\n",
       "      <td>0.009140</td>\n",
       "      <td>0.343763</td>\n",
       "      <td>0.008215</td>\n",
       "      <td>4650000.0</td>\n",
       "      <td>%</td>\n",
       "    </tr>\n",
       "    <tr>\n",
       "      <th>159</th>\n",
       "      <td>United Kingdom</td>\n",
       "      <td>0.0</td>\n",
       "      <td>25.8633</td>\n",
       "      <td>4.2615</td>\n",
       "      <td>0.0</td>\n",
       "      <td>1.4678</td>\n",
       "      <td>1.0778</td>\n",
       "      <td>0.5176</td>\n",
       "      <td>0.4219</td>\n",
       "      <td>12.5789</td>\n",
       "      <td>...</td>\n",
       "      <td>18.3507</td>\n",
       "      <td>0.2127</td>\n",
       "      <td>29.5</td>\n",
       "      <td>&lt;2.5</td>\n",
       "      <td>5.868483</td>\n",
       "      <td>0.167220</td>\n",
       "      <td>0.015161</td>\n",
       "      <td>5.686102</td>\n",
       "      <td>67160000.0</td>\n",
       "      <td>%</td>\n",
       "    </tr>\n",
       "    <tr>\n",
       "      <th>142</th>\n",
       "      <td>Sri Lanka</td>\n",
       "      <td>0.0</td>\n",
       "      <td>10.1348</td>\n",
       "      <td>0.3195</td>\n",
       "      <td>0.0</td>\n",
       "      <td>2.7159</td>\n",
       "      <td>1.1682</td>\n",
       "      <td>2.2766</td>\n",
       "      <td>0.5791</td>\n",
       "      <td>2.0270</td>\n",
       "      <td>...</td>\n",
       "      <td>6.7000</td>\n",
       "      <td>0.2396</td>\n",
       "      <td>5.4</td>\n",
       "      <td>9</td>\n",
       "      <td>0.312604</td>\n",
       "      <td>0.001600</td>\n",
       "      <td>0.285335</td>\n",
       "      <td>0.025669</td>\n",
       "      <td>21937000.0</td>\n",
       "      <td>%</td>\n",
       "    </tr>\n",
       "    <tr>\n",
       "      <th>77</th>\n",
       "      <td>Jordan</td>\n",
       "      <td>0.0</td>\n",
       "      <td>12.2622</td>\n",
       "      <td>1.8696</td>\n",
       "      <td>0.0</td>\n",
       "      <td>3.7391</td>\n",
       "      <td>0.5224</td>\n",
       "      <td>0.3189</td>\n",
       "      <td>0.1980</td>\n",
       "      <td>5.8122</td>\n",
       "      <td>...</td>\n",
       "      <td>29.0553</td>\n",
       "      <td>0.2694</td>\n",
       "      <td>33.4</td>\n",
       "      <td>12.2</td>\n",
       "      <td>3.126276</td>\n",
       "      <td>0.040912</td>\n",
       "      <td>2.991760</td>\n",
       "      <td>0.093604</td>\n",
       "      <td>10679000.0</td>\n",
       "      <td>%</td>\n",
       "    </tr>\n",
       "    <tr>\n",
       "      <th>58</th>\n",
       "      <td>Greece</td>\n",
       "      <td>0.0</td>\n",
       "      <td>17.9063</td>\n",
       "      <td>1.6989</td>\n",
       "      <td>0.0</td>\n",
       "      <td>1.3280</td>\n",
       "      <td>0.7749</td>\n",
       "      <td>0.3245</td>\n",
       "      <td>0.2484</td>\n",
       "      <td>6.6267</td>\n",
       "      <td>...</td>\n",
       "      <td>25.5332</td>\n",
       "      <td>0.2848</td>\n",
       "      <td>27.4</td>\n",
       "      <td>&lt;2.5</td>\n",
       "      <td>1.525355</td>\n",
       "      <td>0.055617</td>\n",
       "      <td>0.876299</td>\n",
       "      <td>0.593439</td>\n",
       "      <td>10700000.0</td>\n",
       "      <td>%</td>\n",
       "    </tr>\n",
       "    <tr>\n",
       "      <th>129</th>\n",
       "      <td>Saint Lucia</td>\n",
       "      <td>0.0</td>\n",
       "      <td>33.3454</td>\n",
       "      <td>3.8130</td>\n",
       "      <td>0.0</td>\n",
       "      <td>1.6712</td>\n",
       "      <td>0.5249</td>\n",
       "      <td>1.5867</td>\n",
       "      <td>0.3741</td>\n",
       "      <td>22.8778</td>\n",
       "      <td>...</td>\n",
       "      <td>9.6531</td>\n",
       "      <td>0.1508</td>\n",
       "      <td>19.8</td>\n",
       "      <td>NaN</td>\n",
       "      <td>0.996154</td>\n",
       "      <td>0.009890</td>\n",
       "      <td>0.480769</td>\n",
       "      <td>0.505495</td>\n",
       "      <td>182000.0</td>\n",
       "      <td>%</td>\n",
       "    </tr>\n",
       "  </tbody>\n",
       "</table>\n",
       "<p>10 rows × 32 columns</p>\n",
       "</div>"
      ],
      "text/plain": [
       "            Country  Alcoholic Beverages  Animal Products  Animal fats  \\\n",
       "6           Armenia                  0.0          29.6642       6.2619   \n",
       "12         Barbados                  0.0          25.8451       3.9733   \n",
       "138        Slovenia                  0.0          26.6163      10.0008   \n",
       "64            Haiti                  0.0          12.1462       1.7481   \n",
       "98       Mauritania                  0.0          17.4021       1.7485   \n",
       "159  United Kingdom                  0.0          25.8633       4.2615   \n",
       "142       Sri Lanka                  0.0          10.1348       0.3195   \n",
       "77           Jordan                  0.0          12.2622       1.8696   \n",
       "58           Greece                  0.0          17.9063       1.6989   \n",
       "129     Saint Lucia                  0.0          33.3454       3.8130   \n",
       "\n",
       "     Aquatic Products, Other  Cereals - Excluding Beer    Eggs  Fish, Seafood  \\\n",
       "6                        0.0                    2.5068  1.6196         0.2218   \n",
       "12                       0.0                    2.1187  1.2130         1.8060   \n",
       "138                      0.0                    3.5771  1.1287         0.3693   \n",
       "64                       0.0                    5.7517  0.1353         0.3722   \n",
       "98                       0.0                    4.3092  0.4337         0.5369   \n",
       "159                      0.0                    1.4678  1.0778         0.5176   \n",
       "142                      0.0                    2.7159  1.1682         2.2766   \n",
       "77                       0.0                    3.7391  0.5224         0.3189   \n",
       "58                       0.0                    1.3280  0.7749         0.3245   \n",
       "129                      0.0                    1.6712  0.5249         1.5867   \n",
       "\n",
       "     Fruits - Excluding Wine     Meat  ...  Vegetable Oils  Vegetables  \\\n",
       "6                     0.5468  10.8165  ...         12.8127      0.8717   \n",
       "12                    0.4636  13.1382  ...         15.6882      0.2534   \n",
       "138                   0.4606   8.5899  ...         13.8684      0.2697   \n",
       "64                    1.6804   7.8944  ...         25.1494      0.1241   \n",
       "98                    0.0895   5.7479  ...         26.9567      0.1514   \n",
       "159                   0.4219  12.5789  ...         18.3507      0.2127   \n",
       "142                   0.5791   2.0270  ...          6.7000      0.2396   \n",
       "77                    0.1980   5.8122  ...         29.0553      0.2694   \n",
       "58                    0.2484   6.6267  ...         25.5332      0.2848   \n",
       "129                   0.3741  22.8778  ...          9.6531      0.1508   \n",
       "\n",
       "     Obesity  Undernourished  Confirmed    Deaths  Recovered    Active  \\\n",
       "6       20.9             4.3   5.681225  0.105345   5.398410  0.177470   \n",
       "12      24.8             3.9   0.583972  0.006272   0.470035  0.107666   \n",
       "138     22.5            <2.5   8.235901  0.171755   7.312934  0.751213   \n",
       "64      20.5            49.3   0.103113  0.002149   0.080295  0.020670   \n",
       "98      11.3            10.4   0.361118  0.009140   0.343763  0.008215   \n",
       "159     29.5            <2.5   5.868483  0.167220   0.015161  5.686102   \n",
       "142      5.4               9   0.312604  0.001600   0.285335  0.025669   \n",
       "77      33.4            12.2   3.126276  0.040912   2.991760  0.093604   \n",
       "58      27.4            <2.5   1.525355  0.055617   0.876299  0.593439   \n",
       "129     19.8             NaN   0.996154  0.009890   0.480769  0.505495   \n",
       "\n",
       "     Population  Unit (all except Population)  \n",
       "6     2956000.0                             %  \n",
       "12     287000.0                             %  \n",
       "138   2103000.0                             %  \n",
       "64   11403000.0                             %  \n",
       "98    4650000.0                             %  \n",
       "159  67160000.0                             %  \n",
       "142  21937000.0                             %  \n",
       "77   10679000.0                             %  \n",
       "58   10700000.0                             %  \n",
       "129    182000.0                             %  \n",
       "\n",
       "[10 rows x 32 columns]"
      ]
     },
     "execution_count": 137,
     "metadata": {},
     "output_type": "execute_result"
    }
   ],
   "source": [
    "fat_quantity.sample(10)"
   ]
  },
  {
   "cell_type": "code",
   "execution_count": 138,
   "metadata": {},
   "outputs": [
    {
     "name": "stdout",
     "output_type": "stream",
     "text": [
      "<class 'pandas.core.frame.DataFrame'>\n",
      "RangeIndex: 170 entries, 0 to 169\n",
      "Data columns (total 32 columns):\n",
      " #   Column                        Non-Null Count  Dtype  \n",
      "---  ------                        --------------  -----  \n",
      " 0   Country                       170 non-null    object \n",
      " 1   Alcoholic Beverages           170 non-null    float64\n",
      " 2   Animal Products               170 non-null    float64\n",
      " 3   Animal fats                   170 non-null    float64\n",
      " 4   Aquatic Products, Other       170 non-null    float64\n",
      " 5   Cereals - Excluding Beer      170 non-null    float64\n",
      " 6   Eggs                          170 non-null    float64\n",
      " 7   Fish, Seafood                 170 non-null    float64\n",
      " 8   Fruits - Excluding Wine       170 non-null    float64\n",
      " 9   Meat                          170 non-null    float64\n",
      " 10  Miscellaneous                 170 non-null    float64\n",
      " 11  Milk - Excluding Butter       170 non-null    float64\n",
      " 12  Offals                        170 non-null    float64\n",
      " 13  Oilcrops                      170 non-null    float64\n",
      " 14  Pulses                        170 non-null    float64\n",
      " 15  Spices                        170 non-null    float64\n",
      " 16  Starchy Roots                 170 non-null    float64\n",
      " 17  Stimulants                    170 non-null    float64\n",
      " 18  Sugar Crops                   170 non-null    float64\n",
      " 19  Sugar & Sweeteners            170 non-null    float64\n",
      " 20  Treenuts                      170 non-null    float64\n",
      " 21  Vegetal Products              170 non-null    float64\n",
      " 22  Vegetable Oils                170 non-null    float64\n",
      " 23  Vegetables                    170 non-null    float64\n",
      " 24  Obesity                       167 non-null    float64\n",
      " 25  Undernourished                163 non-null    object \n",
      " 26  Confirmed                     164 non-null    float64\n",
      " 27  Deaths                        164 non-null    float64\n",
      " 28  Recovered                     164 non-null    float64\n",
      " 29  Active                        162 non-null    float64\n",
      " 30  Population                    170 non-null    float64\n",
      " 31  Unit (all except Population)  170 non-null    object \n",
      "dtypes: float64(29), object(3)\n",
      "memory usage: 42.6+ KB\n"
     ]
    }
   ],
   "source": [
    "fat_quantity.info()"
   ]
  },
  {
   "attachments": {},
   "cell_type": "markdown",
   "metadata": {},
   "source": [
    "Let's create a function to **check missing data** and unveil **the percentage of data missing** for each dataframe"
   ]
  },
  {
   "cell_type": "code",
   "execution_count": 139,
   "metadata": {},
   "outputs": [],
   "source": [
    "#Drop columns with less than 25% of non null values\n",
    "\n",
    "n_lines = fat_quantity.shape[0]\n",
    "#fat_quantity = fat_quantity.dropna(axis=1,thresh=n_lines/4)#how=\"all\") \n",
    "\n",
    "#Drop lines without non null\n"
   ]
  },
  {
   "attachments": {},
   "cell_type": "markdown",
   "metadata": {},
   "source": [
    "Delete the countries for which values are missing."
   ]
  },
  {
   "cell_type": "code",
   "execution_count": 140,
   "metadata": {},
   "outputs": [
    {
     "name": "stdout",
     "output_type": "stream",
     "text": [
      "<class 'pandas.core.frame.DataFrame'>\n",
      "Int64Index: 154 entries, 0 to 169\n",
      "Data columns (total 32 columns):\n",
      " #   Column                        Non-Null Count  Dtype  \n",
      "---  ------                        --------------  -----  \n",
      " 0   Country                       154 non-null    object \n",
      " 1   Alcoholic Beverages           154 non-null    float64\n",
      " 2   Animal Products               154 non-null    float64\n",
      " 3   Animal fats                   154 non-null    float64\n",
      " 4   Aquatic Products, Other       154 non-null    float64\n",
      " 5   Cereals - Excluding Beer      154 non-null    float64\n",
      " 6   Eggs                          154 non-null    float64\n",
      " 7   Fish, Seafood                 154 non-null    float64\n",
      " 8   Fruits - Excluding Wine       154 non-null    float64\n",
      " 9   Meat                          154 non-null    float64\n",
      " 10  Miscellaneous                 154 non-null    float64\n",
      " 11  Milk - Excluding Butter       154 non-null    float64\n",
      " 12  Offals                        154 non-null    float64\n",
      " 13  Oilcrops                      154 non-null    float64\n",
      " 14  Pulses                        154 non-null    float64\n",
      " 15  Spices                        154 non-null    float64\n",
      " 16  Starchy Roots                 154 non-null    float64\n",
      " 17  Stimulants                    154 non-null    float64\n",
      " 18  Sugar Crops                   154 non-null    float64\n",
      " 19  Sugar & Sweeteners            154 non-null    float64\n",
      " 20  Treenuts                      154 non-null    float64\n",
      " 21  Vegetal Products              154 non-null    float64\n",
      " 22  Vegetable Oils                154 non-null    float64\n",
      " 23  Vegetables                    154 non-null    float64\n",
      " 24  Obesity                       154 non-null    float64\n",
      " 25  Undernourished                154 non-null    object \n",
      " 26  Confirmed                     154 non-null    float64\n",
      " 27  Deaths                        154 non-null    float64\n",
      " 28  Recovered                     154 non-null    float64\n",
      " 29  Active                        154 non-null    float64\n",
      " 30  Population                    154 non-null    float64\n",
      " 31  Unit (all except Population)  154 non-null    object \n",
      "dtypes: float64(29), object(3)\n",
      "memory usage: 39.7+ KB\n"
     ]
    },
    {
     "data": {
      "text/html": [
       "<div>\n",
       "<style scoped>\n",
       "    .dataframe tbody tr th:only-of-type {\n",
       "        vertical-align: middle;\n",
       "    }\n",
       "\n",
       "    .dataframe tbody tr th {\n",
       "        vertical-align: top;\n",
       "    }\n",
       "\n",
       "    .dataframe thead th {\n",
       "        text-align: right;\n",
       "    }\n",
       "</style>\n",
       "<table border=\"1\" class=\"dataframe\">\n",
       "  <thead>\n",
       "    <tr style=\"text-align: right;\">\n",
       "      <th></th>\n",
       "      <th>Alcoholic Beverages</th>\n",
       "      <th>Animal Products</th>\n",
       "      <th>Animal fats</th>\n",
       "      <th>Aquatic Products, Other</th>\n",
       "      <th>Cereals - Excluding Beer</th>\n",
       "      <th>Eggs</th>\n",
       "      <th>Fish, Seafood</th>\n",
       "      <th>Fruits - Excluding Wine</th>\n",
       "      <th>Meat</th>\n",
       "      <th>Miscellaneous</th>\n",
       "      <th>...</th>\n",
       "      <th>Vegetable Oils</th>\n",
       "      <th>Vegetables</th>\n",
       "      <th>Obesity</th>\n",
       "      <th>Undernourished</th>\n",
       "      <th>Confirmed</th>\n",
       "      <th>Deaths</th>\n",
       "      <th>Recovered</th>\n",
       "      <th>Active</th>\n",
       "      <th>Population</th>\n",
       "      <th>Unit (all except Population)</th>\n",
       "    </tr>\n",
       "  </thead>\n",
       "  <tbody>\n",
       "    <tr>\n",
       "      <th>0</th>\n",
       "      <td>0.0000</td>\n",
       "      <td>21.6397</td>\n",
       "      <td>6.2224</td>\n",
       "      <td>0.0</td>\n",
       "      <td>8.0353</td>\n",
       "      <td>0.6859</td>\n",
       "      <td>0.0327</td>\n",
       "      <td>0.4246</td>\n",
       "      <td>6.1244</td>\n",
       "      <td>0.0163</td>\n",
       "      <td>...</td>\n",
       "      <td>17.0831</td>\n",
       "      <td>0.3593</td>\n",
       "      <td>4.5</td>\n",
       "      <td>29.8</td>\n",
       "      <td>0.142134</td>\n",
       "      <td>0.006186</td>\n",
       "      <td>0.123374</td>\n",
       "      <td>0.012574</td>\n",
       "      <td>38928000.0</td>\n",
       "      <td>%</td>\n",
       "    </tr>\n",
       "    <tr>\n",
       "      <th>1</th>\n",
       "      <td>0.0000</td>\n",
       "      <td>32.0002</td>\n",
       "      <td>3.4172</td>\n",
       "      <td>0.0</td>\n",
       "      <td>2.6734</td>\n",
       "      <td>1.6448</td>\n",
       "      <td>0.1445</td>\n",
       "      <td>0.6418</td>\n",
       "      <td>8.7428</td>\n",
       "      <td>0.0170</td>\n",
       "      <td>...</td>\n",
       "      <td>9.2443</td>\n",
       "      <td>0.6503</td>\n",
       "      <td>22.3</td>\n",
       "      <td>6.2</td>\n",
       "      <td>2.967301</td>\n",
       "      <td>0.050951</td>\n",
       "      <td>1.792636</td>\n",
       "      <td>1.123714</td>\n",
       "      <td>2838000.0</td>\n",
       "      <td>%</td>\n",
       "    </tr>\n",
       "    <tr>\n",
       "      <th>2</th>\n",
       "      <td>0.0000</td>\n",
       "      <td>14.4175</td>\n",
       "      <td>0.8972</td>\n",
       "      <td>0.0</td>\n",
       "      <td>4.2035</td>\n",
       "      <td>1.2171</td>\n",
       "      <td>0.2008</td>\n",
       "      <td>0.5772</td>\n",
       "      <td>3.8961</td>\n",
       "      <td>0.0439</td>\n",
       "      <td>...</td>\n",
       "      <td>27.3606</td>\n",
       "      <td>0.5145</td>\n",
       "      <td>26.6</td>\n",
       "      <td>3.9</td>\n",
       "      <td>0.244897</td>\n",
       "      <td>0.006558</td>\n",
       "      <td>0.167572</td>\n",
       "      <td>0.070767</td>\n",
       "      <td>44357000.0</td>\n",
       "      <td>%</td>\n",
       "    </tr>\n",
       "    <tr>\n",
       "      <th>3</th>\n",
       "      <td>0.0000</td>\n",
       "      <td>15.3041</td>\n",
       "      <td>1.3130</td>\n",
       "      <td>0.0</td>\n",
       "      <td>6.5545</td>\n",
       "      <td>0.1539</td>\n",
       "      <td>1.4155</td>\n",
       "      <td>0.3488</td>\n",
       "      <td>11.0268</td>\n",
       "      <td>0.0308</td>\n",
       "      <td>...</td>\n",
       "      <td>22.4638</td>\n",
       "      <td>0.1231</td>\n",
       "      <td>6.8</td>\n",
       "      <td>25</td>\n",
       "      <td>0.061687</td>\n",
       "      <td>0.001461</td>\n",
       "      <td>0.056808</td>\n",
       "      <td>0.003419</td>\n",
       "      <td>32522000.0</td>\n",
       "      <td>%</td>\n",
       "    </tr>\n",
       "    <tr>\n",
       "      <th>5</th>\n",
       "      <td>0.0000</td>\n",
       "      <td>30.3572</td>\n",
       "      <td>3.3076</td>\n",
       "      <td>0.0</td>\n",
       "      <td>1.3316</td>\n",
       "      <td>1.5706</td>\n",
       "      <td>0.1664</td>\n",
       "      <td>0.2091</td>\n",
       "      <td>19.2693</td>\n",
       "      <td>0.0000</td>\n",
       "      <td>...</td>\n",
       "      <td>17.3147</td>\n",
       "      <td>0.1878</td>\n",
       "      <td>28.5</td>\n",
       "      <td>4.6</td>\n",
       "      <td>4.356147</td>\n",
       "      <td>0.108227</td>\n",
       "      <td>3.905192</td>\n",
       "      <td>0.342729</td>\n",
       "      <td>45377000.0</td>\n",
       "      <td>%</td>\n",
       "    </tr>\n",
       "    <tr>\n",
       "      <th>...</th>\n",
       "      <td>...</td>\n",
       "      <td>...</td>\n",
       "      <td>...</td>\n",
       "      <td>...</td>\n",
       "      <td>...</td>\n",
       "      <td>...</td>\n",
       "      <td>...</td>\n",
       "      <td>...</td>\n",
       "      <td>...</td>\n",
       "      <td>...</td>\n",
       "      <td>...</td>\n",
       "      <td>...</td>\n",
       "      <td>...</td>\n",
       "      <td>...</td>\n",
       "      <td>...</td>\n",
       "      <td>...</td>\n",
       "      <td>...</td>\n",
       "      <td>...</td>\n",
       "      <td>...</td>\n",
       "      <td>...</td>\n",
       "      <td>...</td>\n",
       "    </tr>\n",
       "    <tr>\n",
       "      <th>165</th>\n",
       "      <td>0.0000</td>\n",
       "      <td>16.3261</td>\n",
       "      <td>2.2673</td>\n",
       "      <td>0.0</td>\n",
       "      <td>2.5449</td>\n",
       "      <td>0.6555</td>\n",
       "      <td>0.5707</td>\n",
       "      <td>0.9640</td>\n",
       "      <td>7.0949</td>\n",
       "      <td>0.0077</td>\n",
       "      <td>...</td>\n",
       "      <td>29.5211</td>\n",
       "      <td>0.1851</td>\n",
       "      <td>25.2</td>\n",
       "      <td>21.2</td>\n",
       "      <td>0.452585</td>\n",
       "      <td>0.004287</td>\n",
       "      <td>0.424399</td>\n",
       "      <td>0.023899</td>\n",
       "      <td>28645000.0</td>\n",
       "      <td>%</td>\n",
       "    </tr>\n",
       "    <tr>\n",
       "      <th>166</th>\n",
       "      <td>0.0000</td>\n",
       "      <td>33.2484</td>\n",
       "      <td>3.8238</td>\n",
       "      <td>0.0</td>\n",
       "      <td>3.7155</td>\n",
       "      <td>0.7839</td>\n",
       "      <td>1.1217</td>\n",
       "      <td>0.4079</td>\n",
       "      <td>26.4292</td>\n",
       "      <td>0.0064</td>\n",
       "      <td>...</td>\n",
       "      <td>5.6211</td>\n",
       "      <td>0.6373</td>\n",
       "      <td>2.1</td>\n",
       "      <td>9.3</td>\n",
       "      <td>0.002063</td>\n",
       "      <td>0.000036</td>\n",
       "      <td>0.001526</td>\n",
       "      <td>0.000501</td>\n",
       "      <td>96209000.0</td>\n",
       "      <td>%</td>\n",
       "    </tr>\n",
       "    <tr>\n",
       "      <th>167</th>\n",
       "      <td>0.0000</td>\n",
       "      <td>12.5401</td>\n",
       "      <td>2.0131</td>\n",
       "      <td>0.0</td>\n",
       "      <td>11.5271</td>\n",
       "      <td>0.5514</td>\n",
       "      <td>0.3847</td>\n",
       "      <td>0.2564</td>\n",
       "      <td>8.0010</td>\n",
       "      <td>0.0256</td>\n",
       "      <td>...</td>\n",
       "      <td>23.6312</td>\n",
       "      <td>0.1667</td>\n",
       "      <td>14.1</td>\n",
       "      <td>38.9</td>\n",
       "      <td>0.007131</td>\n",
       "      <td>0.002062</td>\n",
       "      <td>0.004788</td>\n",
       "      <td>0.000282</td>\n",
       "      <td>29826000.0</td>\n",
       "      <td>%</td>\n",
       "    </tr>\n",
       "    <tr>\n",
       "      <th>168</th>\n",
       "      <td>0.0783</td>\n",
       "      <td>9.6005</td>\n",
       "      <td>1.6113</td>\n",
       "      <td>0.0</td>\n",
       "      <td>14.3225</td>\n",
       "      <td>0.6266</td>\n",
       "      <td>1.0070</td>\n",
       "      <td>0.1343</td>\n",
       "      <td>4.9010</td>\n",
       "      <td>0.0224</td>\n",
       "      <td>...</td>\n",
       "      <td>15.2848</td>\n",
       "      <td>0.1567</td>\n",
       "      <td>6.5</td>\n",
       "      <td>46.7</td>\n",
       "      <td>0.334133</td>\n",
       "      <td>0.004564</td>\n",
       "      <td>0.290524</td>\n",
       "      <td>0.039045</td>\n",
       "      <td>18384000.0</td>\n",
       "      <td>%</td>\n",
       "    </tr>\n",
       "    <tr>\n",
       "      <th>169</th>\n",
       "      <td>0.0000</td>\n",
       "      <td>10.3796</td>\n",
       "      <td>2.9543</td>\n",
       "      <td>0.0</td>\n",
       "      <td>9.7922</td>\n",
       "      <td>0.3682</td>\n",
       "      <td>0.2455</td>\n",
       "      <td>0.0614</td>\n",
       "      <td>4.5674</td>\n",
       "      <td>0.0175</td>\n",
       "      <td>...</td>\n",
       "      <td>26.9396</td>\n",
       "      <td>0.0789</td>\n",
       "      <td>12.3</td>\n",
       "      <td>51.3</td>\n",
       "      <td>0.232033</td>\n",
       "      <td>0.008854</td>\n",
       "      <td>0.190964</td>\n",
       "      <td>0.032214</td>\n",
       "      <td>14863000.0</td>\n",
       "      <td>%</td>\n",
       "    </tr>\n",
       "  </tbody>\n",
       "</table>\n",
       "<p>154 rows × 31 columns</p>\n",
       "</div>"
      ],
      "text/plain": [
       "     Alcoholic Beverages  Animal Products  Animal fats  \\\n",
       "0                 0.0000          21.6397       6.2224   \n",
       "1                 0.0000          32.0002       3.4172   \n",
       "2                 0.0000          14.4175       0.8972   \n",
       "3                 0.0000          15.3041       1.3130   \n",
       "5                 0.0000          30.3572       3.3076   \n",
       "..                   ...              ...          ...   \n",
       "165               0.0000          16.3261       2.2673   \n",
       "166               0.0000          33.2484       3.8238   \n",
       "167               0.0000          12.5401       2.0131   \n",
       "168               0.0783           9.6005       1.6113   \n",
       "169               0.0000          10.3796       2.9543   \n",
       "\n",
       "     Aquatic Products, Other  Cereals - Excluding Beer    Eggs  Fish, Seafood  \\\n",
       "0                        0.0                    8.0353  0.6859         0.0327   \n",
       "1                        0.0                    2.6734  1.6448         0.1445   \n",
       "2                        0.0                    4.2035  1.2171         0.2008   \n",
       "3                        0.0                    6.5545  0.1539         1.4155   \n",
       "5                        0.0                    1.3316  1.5706         0.1664   \n",
       "..                       ...                       ...     ...            ...   \n",
       "165                      0.0                    2.5449  0.6555         0.5707   \n",
       "166                      0.0                    3.7155  0.7839         1.1217   \n",
       "167                      0.0                   11.5271  0.5514         0.3847   \n",
       "168                      0.0                   14.3225  0.6266         1.0070   \n",
       "169                      0.0                    9.7922  0.3682         0.2455   \n",
       "\n",
       "     Fruits - Excluding Wine     Meat  Miscellaneous  ...  Vegetable Oils  \\\n",
       "0                     0.4246   6.1244         0.0163  ...         17.0831   \n",
       "1                     0.6418   8.7428         0.0170  ...          9.2443   \n",
       "2                     0.5772   3.8961         0.0439  ...         27.3606   \n",
       "3                     0.3488  11.0268         0.0308  ...         22.4638   \n",
       "5                     0.2091  19.2693         0.0000  ...         17.3147   \n",
       "..                       ...      ...            ...  ...             ...   \n",
       "165                   0.9640   7.0949         0.0077  ...         29.5211   \n",
       "166                   0.4079  26.4292         0.0064  ...          5.6211   \n",
       "167                   0.2564   8.0010         0.0256  ...         23.6312   \n",
       "168                   0.1343   4.9010         0.0224  ...         15.2848   \n",
       "169                   0.0614   4.5674         0.0175  ...         26.9396   \n",
       "\n",
       "     Vegetables  Obesity  Undernourished  Confirmed    Deaths  Recovered  \\\n",
       "0        0.3593      4.5            29.8   0.142134  0.006186   0.123374   \n",
       "1        0.6503     22.3             6.2   2.967301  0.050951   1.792636   \n",
       "2        0.5145     26.6             3.9   0.244897  0.006558   0.167572   \n",
       "3        0.1231      6.8              25   0.061687  0.001461   0.056808   \n",
       "5        0.1878     28.5             4.6   4.356147  0.108227   3.905192   \n",
       "..          ...      ...             ...        ...       ...        ...   \n",
       "165      0.1851     25.2            21.2   0.452585  0.004287   0.424399   \n",
       "166      0.6373      2.1             9.3   0.002063  0.000036   0.001526   \n",
       "167      0.1667     14.1            38.9   0.007131  0.002062   0.004788   \n",
       "168      0.1567      6.5            46.7   0.334133  0.004564   0.290524   \n",
       "169      0.0789     12.3            51.3   0.232033  0.008854   0.190964   \n",
       "\n",
       "       Active  Population  Unit (all except Population)  \n",
       "0    0.012574  38928000.0                             %  \n",
       "1    1.123714   2838000.0                             %  \n",
       "2    0.070767  44357000.0                             %  \n",
       "3    0.003419  32522000.0                             %  \n",
       "5    0.342729  45377000.0                             %  \n",
       "..        ...         ...                           ...  \n",
       "165  0.023899  28645000.0                             %  \n",
       "166  0.000501  96209000.0                             %  \n",
       "167  0.000282  29826000.0                             %  \n",
       "168  0.039045  18384000.0                             %  \n",
       "169  0.032214  14863000.0                             %  \n",
       "\n",
       "[154 rows x 31 columns]"
      ]
     },
     "execution_count": 140,
     "metadata": {},
     "output_type": "execute_result"
    }
   ],
   "source": [
    "fat_quantity =fat_quantity.dropna(how=\"any\", axis=0)\n",
    "\n",
    "fat_quantity.info()\n",
    "\n",
    "fat_quantity.drop(columns='Country', axis=1)"
   ]
  },
  {
   "attachments": {},
   "cell_type": "markdown",
   "metadata": {},
   "source": [
    "Look at the different data types for each variable."
   ]
  },
  {
   "cell_type": "code",
   "execution_count": 141,
   "metadata": {},
   "outputs": [
    {
     "name": "stdout",
     "output_type": "stream",
     "text": [
      "Index(['Country', 'Undernourished', 'Unit (all except Population)'], dtype='object')\n",
      "Index(['Alcoholic Beverages', 'Animal Products', 'Animal fats',\n",
      "       'Aquatic Products, Other', 'Cereals - Excluding Beer', 'Eggs',\n",
      "       'Fish, Seafood', 'Fruits - Excluding Wine', 'Meat', 'Miscellaneous',\n",
      "       'Milk - Excluding Butter', 'Offals', 'Oilcrops', 'Pulses', 'Spices',\n",
      "       'Starchy Roots', 'Stimulants', 'Sugar Crops', 'Sugar & Sweeteners',\n",
      "       'Treenuts', 'Vegetal Products', 'Vegetable Oils', 'Vegetables',\n",
      "       'Obesity', 'Confirmed', 'Deaths', 'Recovered', 'Active', 'Population'],\n",
      "      dtype='object')\n"
     ]
    }
   ],
   "source": [
    "cat_names = fat_quantity.select_dtypes(include='object').columns\n",
    "num_names = fat_quantity.select_dtypes(exclude='object').columns\n",
    "\n",
    "print(cat_names)\n",
    "print(num_names)\n",
    "\n"
   ]
  },
  {
   "attachments": {},
   "cell_type": "markdown",
   "metadata": {},
   "source": [
    "Explore the variables that are not of float type and see of you can convert them in to float type."
   ]
  },
  {
   "cell_type": "code",
   "execution_count": 142,
   "metadata": {},
   "outputs": [],
   "source": [
    "#below\n",
    "df_dum = pd.get_dummies(fat_quantity[cat_names], dtype=float)\n",
    "\n",
    "# Remove the original and concate the news\n",
    "fat_quantity_total = pd.concat([fat_quantity.drop(columns=cat_names), df_dum],axis=1)\n",
    "\n",
    "cat_names = df_dum.columns\n"
   ]
  },
  {
   "attachments": {},
   "cell_type": "markdown",
   "metadata": {},
   "source": [
    "# Clustering"
   ]
  },
  {
   "attachments": {},
   "cell_type": "markdown",
   "metadata": {},
   "source": [
    "## Data preparation"
   ]
  },
  {
   "attachments": {},
   "cell_type": "markdown",
   "metadata": {},
   "source": [
    "Scale the dataset"
   ]
  },
  {
   "cell_type": "code",
   "execution_count": 143,
   "metadata": {},
   "outputs": [],
   "source": [
    "from sklearn.preprocessing import StandardScaler, OneHotEncoder\n",
    "from sklearn.compose import ColumnTransformer\n",
    "from sklearn.pipeline import Pipeline\n",
    "from sklearn.impute import SimpleImputer\n",
    "\n",
    "\n",
    "def fit_model(estimator, X):\n",
    "\n",
    "    # Pipelines\n",
    "    #num_pipeline = Pipeline([\n",
    "    #    ('imputer', SimpleImputer(strategy=\"median\")),\n",
    "    #    ('scaler', StandardScaler())\n",
    "    #])\n",
    "\n",
    "    #cat_pipeline = Pipeline([\n",
    "    #    ('imputer', SimpleImputer(strategy=\"most_frequent\")),\n",
    "       # ('encoder', OneHotEncoder(handle_unknown='ignore'))\n",
    "    #])\n",
    "\n",
    "    #transform_pipeline = ColumnTransformer([\n",
    "    #    (\"num\", num_pipeline, num_names),\n",
    "    #    (\"cat\", cat_pipeline, cat_names)\n",
    "    #])\n",
    "\n",
    "    # full pipeline\n",
    "    model_pipeline = Pipeline([\n",
    "        (\"processor\", StandardScaler()),\n",
    "        (\"model\", estimator)\n",
    "    ])\n",
    "    model = model_pipeline.fit(X)\n",
    "    return model\n",
    "\n",
    "\n",
    "\n",
    "#continuos data only to use with Kmeans\n",
    "\n",
    "scaler = StandardScaler()\n",
    "fat_quantity_cont = fat_quantity.select_dtypes(exclude=\"object\")\n",
    "\n",
    "fat_quantity_scaled = scaler.fit_transform(fat_quantity_cont)\n",
    "fat_quantity_scaled = pd.DataFrame(fat_quantity_scaled, columns=num_names)\n",
    "\n",
    "\n"
   ]
  },
  {
   "attachments": {},
   "cell_type": "markdown",
   "metadata": {},
   "source": [
    "## Plot some data"
   ]
  },
  {
   "attachments": {},
   "cell_type": "markdown",
   "metadata": {},
   "source": [
    "Now, we want to visualize some variables for each state. To do so, we use plotly express to have the possibility to hover on a scatter plot and see the statistics per country clearer as explained here."
   ]
  },
  {
   "attachments": {},
   "cell_type": "markdown",
   "metadata": {},
   "source": [
    "https://plotly.com/python/hover-text-and-formatting/#:~:text=Basic%20Charts%20tutorials.-,Hover%20Labels,having%20a%20hover%20label%20appear."
   ]
  },
  {
   "attachments": {},
   "cell_type": "markdown",
   "metadata": {},
   "source": [
    "Plot the \"Obesity\" vs \"Deaths\" statistics"
   ]
  },
  {
   "cell_type": "code",
   "execution_count": 144,
   "metadata": {},
   "outputs": [
    {
     "data": {
      "text/plain": [
       "Text(0.5, 0, 'Obesity')"
      ]
     },
     "execution_count": 144,
     "metadata": {},
     "output_type": "execute_result"
    },
    {
     "data": {
      "image/png": "[encoded data removed]",
      "text/plain": [
       "<Figure size 640x480 with 1 Axes>"
      ]
     },
     "metadata": {},
     "output_type": "display_data"
    }
   ],
   "source": [
    "plt.scatter(fat_quantity['Obesity'],fat_quantity['Deaths'])\n",
    "plt.ylabel('Deaths')\n",
    "plt.xlabel('Obesity')"
   ]
  },
  {
   "attachments": {},
   "cell_type": "markdown",
   "metadata": {},
   "source": [
    "Plot the \"Animal fats\" vs \"Deaths\" statistics"
   ]
  },
  {
   "cell_type": "code",
   "execution_count": 145,
   "metadata": {},
   "outputs": [
    {
     "data": {
      "text/plain": [
       "Text(0.5, 0, 'Animal fats')"
      ]
     },
     "execution_count": 145,
     "metadata": {},
     "output_type": "execute_result"
    },
    {
     "data": {
      "image/png": "[encoded data removed]",
      "text/plain": [
       "<Figure size 640x480 with 1 Axes>"
      ]
     },
     "metadata": {},
     "output_type": "display_data"
    }
   ],
   "source": [
    "plt.scatter(fat_quantity['Animal fats'],fat_quantity['Deaths'])\n",
    "plt.ylabel('Deaths')\n",
    "plt.xlabel('Animal fats')"
   ]
  },
  {
   "attachments": {},
   "cell_type": "markdown",
   "metadata": {},
   "source": [
    "## K-means and Elbow method"
   ]
  },
  {
   "attachments": {},
   "cell_type": "markdown",
   "metadata": {},
   "source": [
    "We start with the K-Means model:\n",
    "- use the scikit-learn method\n",
    "- use the method you implemented.\n",
    "\n",
    "Use a graphical tool, the elbow method, to estimate the optimal number of clusters k for a given task.\n",
    "- Determine the optimal number of clusters for the previous 2 plots."
   ]
  },
  {
   "cell_type": "code",
   "execution_count": 151,
   "metadata": {},
   "outputs": [
    {
     "name": "stdout",
     "output_type": "stream",
     "text": [
      " stop in the iteration 12\n"
     ]
    }
   ],
   "source": [
    "from sklearn.cluster import KMeans\n",
    "from modulekmeans import Kmeans\n",
    "from sklearn.decomposition import PCA\n",
    "\n",
    "\n",
    "X = fat_quantity_scaled \n",
    "\n",
    "\n",
    "\n",
    "#Sklearn\n",
    "skl_kmeans = KMeans(n_clusters=3, random_state=42)\n",
    "#skl_kmeans = fit_model(skl_kmeans,X)\n",
    "skl_kmeans.fit(X)\n",
    "skl_labels = skl_kmeans.labels_\n",
    "skl_centroids = skl_kmeans.cluster_centers_\n",
    "\n",
    "#my code\n",
    "\n",
    "X_array = X.to_numpy()\n",
    "my_kmeans = Kmeans(K=3, tolerance=0.0001, random_state=42)\n",
    "#my_kmeans = fit_model(my_kmeans, X_array)\n",
    "my_kmeans.fit(X_array)\n",
    "my_labels= my_kmeans.labels\n",
    "my_centroids = my_kmeans.centroids\n",
    "\n"
   ]
  },
  {
   "attachments": {},
   "cell_type": "markdown",
   "metadata": {},
   "source": [
    "Plot the obtained clusters"
   ]
  },
  {
   "cell_type": "code",
   "execution_count": 152,
   "metadata": {},
   "outputs": [
    {
     "data": {
      "image/png": "[encoded data removed]",
      "text/plain": [
       "<Figure size 800x600 with 1 Axes>"
      ]
     },
     "metadata": {},
     "output_type": "display_data"
    }
   ],
   "source": [
    "pca = PCA(n_components=2)\n",
    "X_pca = pca.fit_transform(X)\n",
    "my_centroids_pca = pca.transform(my_centroids)\n",
    "skl_centroids_pca = pca.transform(skl_centroids)\n",
    "\n",
    "# Plotando os clusters\n",
    "plt.figure(figsize=(8,6))\n",
    "plt.scatter(X_pca[:,0], X_pca[:,1],c=skl_labels, cmap='tab10' , s=50)\n",
    "plt.scatter(my_centroids_pca[:,0], my_centroids_pca[:,1], c='black', s=70, marker='X', label='my_Centroids')\n",
    "plt.scatter(skl_centroids_pca[:,0], skl_centroids_pca[:,1], c='black', s=50, marker='o', label='skl_Centroids')\n",
    "\n",
    "plt.xlabel(\"PCA Component 1\")\n",
    "plt.ylabel(\"PCA Component 2\")\n",
    "plt.title(\"Clusters visualized with PCA\")\n",
    "plt.legend()\n",
    "#plt.colorbar(label='Cluster')\n",
    "plt.show()\n"
   ]
  },
  {
   "attachments": {},
   "cell_type": "markdown",
   "metadata": {},
   "source": [
    "## Other clustering methods"
   ]
  },
  {
   "attachments": {},
   "cell_type": "markdown",
   "metadata": {},
   "source": [
    "We are going to explore other clustering methods, such as Mean-Shift.\n",
    "\n",
    "You can read more about it in the next ressource:\n",
    "https://scikit-learn.org/stable/modules/clustering.html\n"
   ]
  },
  {
   "attachments": {},
   "cell_type": "markdown",
   "metadata": {},
   "source": [
    "Apply the method to our datasets made of 2 variables (\"Obesity\" vs \"Deaths\")"
   ]
  },
  {
   "cell_type": "code",
   "execution_count": 148,
   "metadata": {},
   "outputs": [],
   "source": [
    "# Mean-Shift\n",
    "from sklearn.cluster import MeanShift, estimate_bandwidth\n"
   ]
  },
  {
   "attachments": {},
   "cell_type": "markdown",
   "metadata": {},
   "source": [
    "Plot the obtained clusters"
   ]
  },
  {
   "cell_type": "code",
   "execution_count": null,
   "metadata": {},
   "outputs": [],
   "source": []
  },
  {
   "attachments": {},
   "cell_type": "markdown",
   "metadata": {},
   "source": [
    "Check out other algorithms such as DBSAN or OPTICS, why are these algorithms very interesting and in what cases? "
   ]
  },
  {
   "cell_type": "code",
   "execution_count": 149,
   "metadata": {},
   "outputs": [],
   "source": [
    "from sklearn.cluster import DBSCAN\n"
   ]
  },
  {
   "cell_type": "code",
   "execution_count": null,
   "metadata": {},
   "outputs": [],
   "source": []
  },
  {
   "attachments": {},
   "cell_type": "markdown",
   "metadata": {},
   "source": [
    "# Regression and prediction"
   ]
  },
  {
   "attachments": {},
   "cell_type": "markdown",
   "metadata": {},
   "source": [
    "Given this dataset and the emphasis we have already laid on deaths through clustering, it would be interesting to study this dataset for a classification purpose and see how accurately we can predict the mortality rate in fonction of the given features."
   ]
  },
  {
   "attachments": {},
   "cell_type": "markdown",
   "metadata": {},
   "source": [
    "## Creating train and test sets "
   ]
  },
  {
   "attachments": {},
   "cell_type": "markdown",
   "metadata": {},
   "source": [
    "Let's separate the data into a training and testing sets using random selection."
   ]
  },
  {
   "cell_type": "code",
   "execution_count": null,
   "metadata": {},
   "outputs": [],
   "source": []
  },
  {
   "attachments": {},
   "cell_type": "markdown",
   "metadata": {},
   "source": [
    "Now drop the labels from the training set and create a new variable for the labels."
   ]
  },
  {
   "cell_type": "code",
   "execution_count": null,
   "metadata": {},
   "outputs": [],
   "source": []
  },
  {
   "attachments": {},
   "cell_type": "markdown",
   "metadata": {},
   "source": [
    "Scale the datasets."
   ]
  },
  {
   "cell_type": "code",
   "execution_count": null,
   "metadata": {},
   "outputs": [],
   "source": []
  },
  {
   "attachments": {},
   "cell_type": "markdown",
   "metadata": {},
   "source": [
    "## Random Forest"
   ]
  },
  {
   "attachments": {},
   "cell_type": "markdown",
   "metadata": {},
   "source": [
    "Let's try a random forest model on the prepared fat_quantity training set."
   ]
  },
  {
   "cell_type": "code",
   "execution_count": null,
   "metadata": {},
   "outputs": [],
   "source": []
  },
  {
   "attachments": {},
   "cell_type": "markdown",
   "metadata": {},
   "source": [
    "Now we predict."
   ]
  },
  {
   "cell_type": "code",
   "execution_count": null,
   "metadata": {},
   "outputs": [],
   "source": []
  },
  {
   "attachments": {},
   "cell_type": "markdown",
   "metadata": {},
   "source": [
    "Let's perform a 10 fold cross validation.\n",
    "And display the resulting scores:"
   ]
  },
  {
   "cell_type": "code",
   "execution_count": null,
   "metadata": {},
   "outputs": [],
   "source": []
  },
  {
   "attachments": {},
   "cell_type": "markdown",
   "metadata": {},
   "source": [
    "## Learning Curves analysis "
   ]
  },
  {
   "attachments": {},
   "cell_type": "markdown",
   "metadata": {},
   "source": [
    "Use the function seen in **Module 1 to plot learning curves with cross validation.** "
   ]
  },
  {
   "cell_type": "code",
   "execution_count": 150,
   "metadata": {},
   "outputs": [],
   "source": [
    "from sklearn.model_selection import learning_curve\n",
    "\n",
    "def plot_learning_curve(estimator, title, X, y, axes=None, ylim=None, cv=None,\n",
    "                        n_jobs=None, train_sizes=np.linspace(.1, 1.0, 5)):\n",
    "    pass"
   ]
  },
  {
   "attachments": {},
   "cell_type": "markdown",
   "metadata": {},
   "source": [
    "Try to interpret the obtained learning curve."
   ]
  },
  {
   "cell_type": "code",
   "execution_count": null,
   "metadata": {},
   "outputs": [],
   "source": []
  },
  {
   "attachments": {},
   "cell_type": "markdown",
   "metadata": {},
   "source": [
    "Perform a grid search to try to obtain the best hyperparameters. What is the best score that you obtained?"
   ]
  },
  {
   "cell_type": "code",
   "execution_count": null,
   "metadata": {},
   "outputs": [],
   "source": []
  },
  {
   "attachments": {},
   "cell_type": "markdown",
   "metadata": {},
   "source": [
    "## SVM"
   ]
  },
  {
   "attachments": {},
   "cell_type": "markdown",
   "metadata": {},
   "source": [
    "Use the SVM regressor to estimate the death rate. See if you can get a better model than with the Random forest regressor."
   ]
  },
  {
   "cell_type": "code",
   "execution_count": null,
   "metadata": {},
   "outputs": [],
   "source": []
  },
  {
   "attachments": {},
   "cell_type": "markdown",
   "metadata": {},
   "source": [
    "## Linear regression"
   ]
  },
  {
   "cell_type": "code",
   "execution_count": null,
   "metadata": {},
   "outputs": [],
   "source": []
  },
  {
   "attachments": {},
   "cell_type": "markdown",
   "metadata": {},
   "source": [
    "# Dimensionality reduction"
   ]
  },
  {
   "attachments": {},
   "cell_type": "markdown",
   "metadata": {},
   "source": [
    "Let's take a look at the whole dataset and see if there are any clusters.\n",
    "\n",
    "In order to do these perform and plot a PCA of 2 components.\n",
    "\n",
    "Dimensionality reduction is a way to reduce the number of features in your dataset without having to lose much information and keep the model’s performance. Check out the Random Forest based method and PCA for dimensionality reduction in the following ressource:\n",
    "\n",
    "https://www.analyticsvidhya.com/blog/2018/08/dimensionality-reduction-techniques-python/"
   ]
  },
  {
   "attachments": {},
   "cell_type": "markdown",
   "metadata": {},
   "source": [
    "## Random Forest feature selection"
   ]
  },
  {
   "cell_type": "code",
   "execution_count": null,
   "metadata": {},
   "outputs": [],
   "source": []
  },
  {
   "attachments": {},
   "cell_type": "markdown",
   "metadata": {},
   "source": [
    "Plot the feature importance graph."
   ]
  },
  {
   "cell_type": "code",
   "execution_count": null,
   "metadata": {},
   "outputs": [],
   "source": []
  },
  {
   "attachments": {},
   "cell_type": "markdown",
   "metadata": {},
   "source": [
    "Comment the graph."
   ]
  },
  {
   "attachments": {},
   "cell_type": "markdown",
   "metadata": {},
   "source": [
    "## PCA dimensionality reduction"
   ]
  },
  {
   "attachments": {},
   "cell_type": "markdown",
   "metadata": {},
   "source": [
    "PCA is a technique which helps us in extracting a new set of variables from an existing large set of variables. Apply clustering methods on this new set of variables. Are the clusters obtained different than the clusters obtained on the \"Obesity\" vs \"Deaths\"?\n",
    "\n",
    "Apply the Elbow method to determne the right number of clusters.\n",
    "\n",
    "Use diverse methods to cluster the countries."
   ]
  },
  {
   "cell_type": "code",
   "execution_count": null,
   "metadata": {},
   "outputs": [],
   "source": []
  }
 ],
 "metadata": {
  "kernelspec": {
   "display_name": "base",
   "language": "python",
   "name": "python3"
  },
  "language_info": {
   "codemirror_mode": {
    "name": "ipython",
    "version": 3
   },
   "file_extension": ".py",
   "mimetype": "text/x-python",
   "name": "python",
   "nbconvert_exporter": "python",
   "pygments_lexer": "ipython3",
   "version": "3.8.8"
  },
  "toc": {
   "base_numbering": 1,
   "nav_menu": {},
   "number_sections": true,
   "sideBar": true,
   "skip_h1_title": false,
   "title_cell": "Table of Contents",
   "title_sidebar": "Contents",
   "toc_cell": false,
   "toc_position": {},
   "toc_section_display": true,
   "toc_window_display": true
  },
  "varInspector": {
   "cols": {
    "lenName": 16,
    "lenType": 16,
    "lenVar": 40
   },
   "kernels_config": {
    "python": {
     "delete_cmd_postfix": "",
     "delete_cmd_prefix": "del ",
     "library": "var_list.py",
     "varRefreshCmd": "print(var_dic_list())"
    },
    "r": {
     "delete_cmd_postfix": ") ",
     "delete_cmd_prefix": "rm(",
     "library": "var_list.r",
     "varRefreshCmd": "cat(var_dic_list()) "
    }
   },
   "types_to_exclude": [
    "module",
    "function",
    "builtin_function_or_method",
    "instance",
    "_Feature"
   ],
   "window_display": false
  }
 },
 "nbformat": 4,
 "nbformat_minor": 4
}
